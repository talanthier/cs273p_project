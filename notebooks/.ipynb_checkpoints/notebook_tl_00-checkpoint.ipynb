{
 "cells": [
  {
   "cell_type": "code",
   "execution_count": 45,
   "id": "c660646f-0d35-403e-80b4-2198f42a2c57",
   "metadata": {},
   "outputs": [],
   "source": [
    "import os\n",
    "import torch\n",
    "import torch.nn as nn\n",
    "from torch import optim\n",
    "from torchvision import transforms\n",
    "from torch.utils.data import Dataset, DataLoader, random_split\n",
    "from torch.nn.functional import softmax\n",
    "import PIL\n",
    "import pandas as pd\n",
    "import numpy as np\n",
    "import matplotlib.pyplot as plt\n",
    "import matplotlib.image as mpimg\n",
    "from tqdm import tqdm\n",
    "\n",
    "PIL.ImageFile.LOAD_TRUNCATED_IMAGES = True\n"
   ]
  },
  {
   "cell_type": "markdown",
   "id": "bd3f81fb-0855-492d-aeb5-e811ea4aaa9c",
   "metadata": {},
   "source": [
    "# Loading Data"
   ]
  },
  {
   "cell_type": "code",
   "execution_count": 2,
   "id": "26aa8871-86fc-4278-bf31-1e16d6b7d85b",
   "metadata": {},
   "outputs": [],
   "source": [
    "class CancerDataset(Dataset):\n",
    "    def __init__(self, data_dir, transform=None):\n",
    "        self.data_dir = data_dir\n",
    "        self.transform = transform\n",
    "        self.classes = [\"Normal cases\", \"Benign cases\", \"Malignant cases\"]  # List the directories (class folders)\n",
    "        self.image_paths = []  # Store the paths of images\n",
    "        self.labels = []       # Store the labels corresponding to images\n",
    "\n",
    "        for label, class_name in enumerate(self.classes): # for each class (Normal = 0, Benign = 1, Malignant = 2)\n",
    "            class_folder = os.path.join(data_dir, class_name)\n",
    "            if os.path.isdir(class_folder):\n",
    "                for file_name in os.listdir(class_folder):\n",
    "                    if file_name.endswith(('.jpg', '.png', '.jpeg')):  # image datatypes\n",
    "                        self.image_paths.append(os.path.join(class_folder, file_name)) # append images\n",
    "                        self.labels.append(label) # append associated labels\n",
    "\n",
    "    def __len__(self):\n",
    "        return len(self.image_paths)\n",
    "\n",
    "    def __getitem__(self, idx):\n",
    "        # Load the image\n",
    "        img_path = self.image_paths[idx]\n",
    "        image = PIL.Image.open(img_path)\n",
    "\n",
    "        # Apply any transformations (if defined)\n",
    "        if self.transform:\n",
    "            image = self.transform(image)\n",
    "\n",
    "        # Return the image and the label\n",
    "        label = self.labels[idx]\n",
    "        return image, label\n",
    "\n"
   ]
  },
  {
   "cell_type": "code",
   "execution_count": 3,
   "id": "71a16928-9341-428e-a294-3fb180a0e787",
   "metadata": {},
   "outputs": [
    {
     "name": "stdout",
     "output_type": "stream",
     "text": [
      "Img Shape: torch.Size([1, 512, 512])\n",
      "Dataset Size: 1097\n",
      "Normal Count: 416, Percent: 37.92\n",
      "Benign Count: 120, Percent: 10.94\n",
      "Malignant Count: 561, Percent: 51.14\n"
     ]
    }
   ],
   "source": [
    "img_transform = transforms.Compose([\n",
    "    transforms.Resize((512, 512)), # resizing. some images are not 512x512\n",
    "    transforms.Grayscale(),\n",
    "    transforms.ToTensor()   # convert image to a tensor\n",
    "])\n",
    "\n",
    "\n",
    "cancer_dataset = CancerDataset(\"../data\", img_transform)\n",
    "print(f'Img Shape: {cancer_dataset[0][0].shape}')\n",
    "\n",
    "print(f'Dataset Size: {len(cancer_dataset)}')\n",
    "label_map = {0 : \"Normal\", 1 : \"Benign\", 2 : \"Malignant\"}\n",
    "cts = np.unique(cancer_dataset.labels, return_counts = True)\n",
    "for i in cts[0]:\n",
    "    label = label_map[i]\n",
    "    print(f'{label} Count: {cts[1][i]}, Percent: {100*cts[1][i]/len(cancer_dataset):.2f}')"
   ]
  },
  {
   "cell_type": "code",
   "execution_count": 4,
   "id": "9e978fcd-9bb7-4474-8f20-f52e6a858c66",
   "metadata": {},
   "outputs": [],
   "source": [
    "torch.manual_seed(35)  # set seed\n",
    "\n",
    "train_proportion = 0.7 # percent training set\n",
    "\n",
    "train_size = int(train_proportion * len(cancer_dataset)) \n",
    "test_size = len(cancer_dataset) - train_size \n",
    "\n",
    "train_dataset, test_dataset = random_split(cancer_dataset, [train_size, test_size]) # split dataset into train and test"
   ]
  },
  {
   "cell_type": "code",
   "execution_count": 5,
   "id": "6c6f5f92-a81a-4ce5-a4df-d4c2c2ab6a57",
   "metadata": {},
   "outputs": [
    {
     "name": "stdout",
     "output_type": "stream",
     "text": [
      "Test Set Size: 330\n",
      "Test Normal Count: 130, Percent: 39.39\n",
      "Test Benign Count: 37, Percent: 11.21\n",
      "Test Malignant Count: 163, Percent: 49.39\n"
     ]
    }
   ],
   "source": [
    "print(f'Test Set Size: {len(test_dataset.indices)}')\n",
    "cts = np.unique([cancer_dataset[i][1] for i in test_dataset.indices], return_counts = True)\n",
    "for i in cts[0]:\n",
    "    label = label_map[i]\n",
    "    print(f'Test {label} Count: {cts[1][i]}, Percent: {100*cts[1][i]/len(test_dataset.indices):.2f}')"
   ]
  },
  {
   "cell_type": "code",
   "execution_count": 6,
   "id": "78d7114e-252a-405e-878f-730f5942bc46",
   "metadata": {},
   "outputs": [],
   "source": [
    "# initialize dataloaders\n",
    "train_dataloader = DataLoader(train_dataset, batch_size=32, shuffle=True)\n",
    "test_dataloader = DataLoader(test_dataset, batch_size=32, shuffle=False)"
   ]
  },
  {
   "cell_type": "markdown",
   "id": "d267c202-ac97-4bed-b8c8-ee528e1596a7",
   "metadata": {},
   "source": [
    "# Modeling"
   ]
  },
  {
   "cell_type": "code",
   "execution_count": 30,
   "id": "11af6d33-84f7-4bc0-abd9-ff250a749068",
   "metadata": {},
   "outputs": [],
   "source": [
    "class CNN(nn.Module):\n",
    "    def __init__(self):\n",
    "        super(CNN, self).__init__()\n",
    "\n",
    "        #max pooling layer\n",
    "        self.pool = nn.MaxPool2d(kernel_size=2, stride=2, padding=0)\n",
    "\n",
    "        # convolutional layers\n",
    "        self.conv1 = nn.Conv2d(1, 8, kernel_size=3, stride=1, padding=1)        \n",
    "        self.conv2 = nn.Conv2d(8, 16, kernel_size=3, stride=1, padding=1)\n",
    "        self.conv3 = nn.Conv2d(16, 32, kernel_size=3, stride=1, padding=1)\n",
    "\n",
    "        self.flatten = nn.Flatten()\n",
    "        self.linear = nn.Linear(32*64*64, 3)\n",
    "\n",
    "        \n",
    "        self.relu = nn.ReLU()\n",
    "    def forward(self, x):\n",
    "        # 512 x 512\n",
    "        x = self.pool(self.relu(self.conv1(x))) # 256x256\n",
    "        x = self.pool(self.relu(self.conv2(x))) # 128x128\n",
    "        x = self.pool(self.relu(self.conv3(x))) # 64x64\n",
    "\n",
    "        x = self.flatten(x)\n",
    "        x = self.linear(x)\n",
    "        return x"
   ]
  },
  {
   "cell_type": "code",
   "execution_count": 55,
   "id": "3e4494bf-1c84-4bd3-80c9-f99c6c6c82e2",
   "metadata": {},
   "outputs": [
    {
     "name": "stdout",
     "output_type": "stream",
     "text": [
      "cpu\n"
     ]
    }
   ],
   "source": [
    "model = CNN()\n",
    "\n",
    "device = torch.device(\"cuda\" if torch.cuda.is_available() else \"cpu\")\n",
    "print(device)\n",
    "\n",
    "num_epochs = 1\n",
    "optimizer = optim.Adam(model.parameters(), lr = 0.01)\n",
    "criterion = nn.CrossEntropyLoss()"
   ]
  },
  {
   "cell_type": "code",
   "execution_count": 56,
   "id": "6a6f71e2-f7a8-4a6f-805a-a4377ee78413",
   "metadata": {},
   "outputs": [
    {
     "name": "stderr",
     "output_type": "stream",
     "text": [
      "Epoch 1/10: 100%|███████████████████████████████| 24/24 [00:19<00:00,  1.22it/s]\n"
     ]
    },
    {
     "name": "stdout",
     "output_type": "stream",
     "text": [
      "Train Loss: 2.5566\n"
     ]
    },
    {
     "name": "stderr",
     "output_type": "stream",
     "text": [
      "Epoch 2/10: 100%|███████████████████████████████| 24/24 [00:19<00:00,  1.20it/s]\n"
     ]
    },
    {
     "name": "stdout",
     "output_type": "stream",
     "text": [
      "Train Loss: 1.0282\n"
     ]
    },
    {
     "name": "stderr",
     "output_type": "stream",
     "text": [
      "Epoch 3/10: 100%|███████████████████████████████| 24/24 [00:20<00:00,  1.18it/s]\n"
     ]
    },
    {
     "name": "stdout",
     "output_type": "stream",
     "text": [
      "Train Loss: 0.9910\n"
     ]
    },
    {
     "name": "stderr",
     "output_type": "stream",
     "text": [
      "Epoch 4/10: 100%|███████████████████████████████| 24/24 [00:20<00:00,  1.16it/s]\n"
     ]
    },
    {
     "name": "stdout",
     "output_type": "stream",
     "text": [
      "Train Loss: 0.9702\n"
     ]
    },
    {
     "name": "stderr",
     "output_type": "stream",
     "text": [
      "Epoch 5/10: 100%|███████████████████████████████| 24/24 [00:21<00:00,  1.13it/s]\n"
     ]
    },
    {
     "name": "stdout",
     "output_type": "stream",
     "text": [
      "Train Loss: 0.9606\n"
     ]
    },
    {
     "name": "stderr",
     "output_type": "stream",
     "text": [
      "Epoch 6/10: 100%|███████████████████████████████| 24/24 [00:21<00:00,  1.13it/s]\n"
     ]
    },
    {
     "name": "stdout",
     "output_type": "stream",
     "text": [
      "Train Loss: 0.9548\n"
     ]
    },
    {
     "name": "stderr",
     "output_type": "stream",
     "text": [
      "Epoch 7/10: 100%|███████████████████████████████| 24/24 [00:21<00:00,  1.13it/s]\n"
     ]
    },
    {
     "name": "stdout",
     "output_type": "stream",
     "text": [
      "Train Loss: 0.9520\n"
     ]
    },
    {
     "name": "stderr",
     "output_type": "stream",
     "text": [
      "Epoch 8/10: 100%|███████████████████████████████| 24/24 [00:21<00:00,  1.13it/s]\n"
     ]
    },
    {
     "name": "stdout",
     "output_type": "stream",
     "text": [
      "Train Loss: 0.9509\n"
     ]
    },
    {
     "name": "stderr",
     "output_type": "stream",
     "text": [
      "Epoch 9/10: 100%|███████████████████████████████| 24/24 [00:21<00:00,  1.13it/s]\n"
     ]
    },
    {
     "name": "stdout",
     "output_type": "stream",
     "text": [
      "Train Loss: 0.9500\n"
     ]
    },
    {
     "name": "stderr",
     "output_type": "stream",
     "text": [
      "Epoch 10/10: 100%|██████████████████████████████| 24/24 [00:21<00:00,  1.12it/s]"
     ]
    },
    {
     "name": "stdout",
     "output_type": "stream",
     "text": [
      "Train Loss: 0.9495\n"
     ]
    },
    {
     "name": "stderr",
     "output_type": "stream",
     "text": [
      "\n"
     ]
    }
   ],
   "source": [
    "for epoch in range(1, num_epochs+1):\n",
    "    model.train()  # set model to train\n",
    "    running_loss = 0.0\n",
    "    correct = 0\n",
    "    total = 0\n",
    "    \n",
    "    for images, labels in tqdm(train_dataloader, desc=f\"Epoch {epoch}/{num_epochs}\"):\n",
    "        images, labels = images.to(device), labels.to(device).long()\n",
    "\n",
    "        # zero out gradients\n",
    "        optimizer.zero_grad()\n",
    "\n",
    "        # Forward pass\n",
    "        outputs = model(images)\n",
    "        loss = criterion(outputs, labels)\n",
    "        \n",
    "        # Backward pass and optimization\n",
    "        loss.backward()\n",
    "        optimizer.step()\n",
    "\n",
    "        running_loss += loss.item()\n",
    "        #predicted = (outputs > 0.5).float()  # Convert to 0 or 1 based on threshold\n",
    "        #correct += (predicted.squeeze() == labels).sum().item()\n",
    "        #total += labels.size(0)\n",
    "        \n",
    "    model.eval() # set model to evaluation mode\n",
    "    \n",
    "    avg_loss = running_loss / len(train_dataloader)\n",
    "    #accuracy = 100 * correct / total\n",
    "\n",
    "    avg_valid_loss = valid_running_loss / len(test_dataloader)\n",
    "    #valid_accuracy = 100 * valid_correct / valid_total\n",
    "    print(f\"Train Loss: {avg_loss:.4f}\") # , Train Accuracy: {accuracy:.2f}%\")\n",
    "    #print(f\"Valid Loss: {avg_valid_loss:.4f}, Valid Accuracy: {valid_accuracy:.2f}%\")\n"
   ]
  },
  {
   "cell_type": "code",
   "execution_count": 73,
   "id": "f1c0e352-9342-43ef-90cf-3f93050c814f",
   "metadata": {},
   "outputs": [
    {
     "name": "stdout",
     "output_type": "stream",
     "text": [
      "tensor([[ 0.2732, -0.8875,  0.6042],\n",
      "        [ 0.2732, -0.8875,  0.6042],\n",
      "        [ 0.2732, -0.8875,  0.6042],\n",
      "        [ 0.2732, -0.8875,  0.6042],\n",
      "        [ 0.2732, -0.8875,  0.6042],\n",
      "        [ 0.2732, -0.8875,  0.6042],\n",
      "        [ 0.2732, -0.8875,  0.6042],\n",
      "        [ 0.2732, -0.8875,  0.6042],\n",
      "        [ 0.2732, -0.8875,  0.6042],\n",
      "        [ 0.2732, -0.8875,  0.6042],\n",
      "        [ 0.2732, -0.8875,  0.6042],\n",
      "        [ 0.2732, -0.8875,  0.6042],\n",
      "        [ 0.2732, -0.8875,  0.6042],\n",
      "        [ 0.2732, -0.8875,  0.6042],\n",
      "        [ 0.2732, -0.8875,  0.6042],\n",
      "        [ 0.2732, -0.8875,  0.6042],\n",
      "        [ 0.2732, -0.8875,  0.6042],\n",
      "        [ 0.2732, -0.8875,  0.6042],\n",
      "        [ 0.2732, -0.8875,  0.6042],\n",
      "        [ 0.2732, -0.8875,  0.6042],\n",
      "        [ 0.2732, -0.8875,  0.6042],\n",
      "        [ 0.2732, -0.8875,  0.6042],\n",
      "        [ 0.2732, -0.8875,  0.6042],\n",
      "        [ 0.2732, -0.8875,  0.6042],\n",
      "        [ 0.2732, -0.8875,  0.6042],\n",
      "        [ 0.2732, -0.8875,  0.6042],\n",
      "        [ 0.2732, -0.8875,  0.6042],\n",
      "        [ 0.2732, -0.8875,  0.6042],\n",
      "        [ 0.2732, -0.8875,  0.6042],\n",
      "        [ 0.2732, -0.8875,  0.6042],\n",
      "        [ 0.2732, -0.8875,  0.6042],\n",
      "        [ 0.2732, -0.8875,  0.6042]], grad_fn=<AddmmBackward0>)\n",
      "tensor([[ 0.2732, -0.8875,  0.6042],\n",
      "        [ 0.2732, -0.8875,  0.6042],\n",
      "        [ 0.2732, -0.8875,  0.6042],\n",
      "        [ 0.2732, -0.8875,  0.6042],\n",
      "        [ 0.2732, -0.8875,  0.6042],\n",
      "        [ 0.2732, -0.8875,  0.6042],\n",
      "        [ 0.2732, -0.8875,  0.6042],\n",
      "        [ 0.2732, -0.8875,  0.6042],\n",
      "        [ 0.2732, -0.8875,  0.6042],\n",
      "        [ 0.2732, -0.8875,  0.6042],\n",
      "        [ 0.2732, -0.8875,  0.6042],\n",
      "        [ 0.2732, -0.8875,  0.6042],\n",
      "        [ 0.2732, -0.8875,  0.6042],\n",
      "        [ 0.2732, -0.8875,  0.6042],\n",
      "        [ 0.2732, -0.8875,  0.6042],\n",
      "        [ 0.2732, -0.8875,  0.6042],\n",
      "        [ 0.2732, -0.8875,  0.6042],\n",
      "        [ 0.2732, -0.8875,  0.6042],\n",
      "        [ 0.2732, -0.8875,  0.6042],\n",
      "        [ 0.2732, -0.8875,  0.6042],\n",
      "        [ 0.2732, -0.8875,  0.6042],\n",
      "        [ 0.2732, -0.8875,  0.6042],\n",
      "        [ 0.2732, -0.8875,  0.6042],\n",
      "        [ 0.2732, -0.8875,  0.6042],\n",
      "        [ 0.2732, -0.8875,  0.6042],\n",
      "        [ 0.2732, -0.8875,  0.6042],\n",
      "        [ 0.2732, -0.8875,  0.6042],\n",
      "        [ 0.2732, -0.8875,  0.6042],\n",
      "        [ 0.2732, -0.8875,  0.6042],\n",
      "        [ 0.2732, -0.8875,  0.6042],\n",
      "        [ 0.2732, -0.8875,  0.6042],\n",
      "        [ 0.2732, -0.8875,  0.6042]], grad_fn=<AddmmBackward0>)\n",
      "tensor([[ 0.2732, -0.8875,  0.6042],\n",
      "        [ 0.2732, -0.8875,  0.6042],\n",
      "        [ 0.2732, -0.8875,  0.6042],\n",
      "        [ 0.2732, -0.8875,  0.6042],\n",
      "        [ 0.2732, -0.8875,  0.6042],\n",
      "        [ 0.2732, -0.8875,  0.6042],\n",
      "        [ 0.2732, -0.8875,  0.6042],\n",
      "        [ 0.2732, -0.8875,  0.6042],\n",
      "        [ 0.2732, -0.8875,  0.6042],\n",
      "        [ 0.2732, -0.8875,  0.6042],\n",
      "        [ 0.2732, -0.8875,  0.6042],\n",
      "        [ 0.2732, -0.8875,  0.6042],\n",
      "        [ 0.2732, -0.8875,  0.6042],\n",
      "        [ 0.2732, -0.8875,  0.6042],\n",
      "        [ 0.2732, -0.8875,  0.6042],\n",
      "        [ 0.2732, -0.8875,  0.6042],\n",
      "        [ 0.2732, -0.8875,  0.6042],\n",
      "        [ 0.2732, -0.8875,  0.6042],\n",
      "        [ 0.2732, -0.8875,  0.6042],\n",
      "        [ 0.2732, -0.8875,  0.6042],\n",
      "        [ 0.2732, -0.8875,  0.6042],\n",
      "        [ 0.2732, -0.8875,  0.6042],\n",
      "        [ 0.2732, -0.8875,  0.6042],\n",
      "        [ 0.2732, -0.8875,  0.6042],\n",
      "        [ 0.2732, -0.8875,  0.6042],\n",
      "        [ 0.2732, -0.8875,  0.6042],\n",
      "        [ 0.2732, -0.8875,  0.6042],\n",
      "        [ 0.2732, -0.8875,  0.6042],\n",
      "        [ 0.2732, -0.8875,  0.6042],\n",
      "        [ 0.2732, -0.8875,  0.6042],\n",
      "        [ 0.2732, -0.8875,  0.6042],\n",
      "        [ 0.2732, -0.8875,  0.6042]], grad_fn=<AddmmBackward0>)\n",
      "tensor([[ 0.2732, -0.8875,  0.6042],\n",
      "        [ 0.2732, -0.8875,  0.6042],\n",
      "        [ 0.2732, -0.8875,  0.6042],\n",
      "        [ 0.2732, -0.8875,  0.6042],\n",
      "        [ 0.2732, -0.8875,  0.6042],\n",
      "        [ 0.2732, -0.8875,  0.6042],\n",
      "        [ 0.2732, -0.8875,  0.6042],\n",
      "        [ 0.2732, -0.8875,  0.6042],\n",
      "        [ 0.2732, -0.8875,  0.6042],\n",
      "        [ 0.2732, -0.8875,  0.6042],\n",
      "        [ 0.2732, -0.8875,  0.6042],\n",
      "        [ 0.2732, -0.8875,  0.6042],\n",
      "        [ 0.2732, -0.8875,  0.6042],\n",
      "        [ 0.2732, -0.8875,  0.6042],\n",
      "        [ 0.2732, -0.8875,  0.6042],\n",
      "        [ 0.2732, -0.8875,  0.6042],\n",
      "        [ 0.2732, -0.8875,  0.6042],\n",
      "        [ 0.2732, -0.8875,  0.6042],\n",
      "        [ 0.2732, -0.8875,  0.6042],\n",
      "        [ 0.2732, -0.8875,  0.6042],\n",
      "        [ 0.2732, -0.8875,  0.6042],\n",
      "        [ 0.2732, -0.8875,  0.6042],\n",
      "        [ 0.2732, -0.8875,  0.6042],\n",
      "        [ 0.2732, -0.8875,  0.6042],\n",
      "        [ 0.2732, -0.8875,  0.6042],\n",
      "        [ 0.2732, -0.8875,  0.6042],\n",
      "        [ 0.2732, -0.8875,  0.6042],\n",
      "        [ 0.2732, -0.8875,  0.6042],\n",
      "        [ 0.2732, -0.8875,  0.6042],\n",
      "        [ 0.2732, -0.8875,  0.6042],\n",
      "        [ 0.2732, -0.8875,  0.6042],\n",
      "        [ 0.2732, -0.8875,  0.6042]], grad_fn=<AddmmBackward0>)\n",
      "tensor([[ 0.2732, -0.8875,  0.6042],\n",
      "        [ 0.2732, -0.8875,  0.6042],\n",
      "        [ 0.2732, -0.8875,  0.6042],\n",
      "        [ 0.2732, -0.8875,  0.6042],\n",
      "        [ 0.2732, -0.8875,  0.6042],\n",
      "        [ 0.2732, -0.8875,  0.6042],\n",
      "        [ 0.2732, -0.8875,  0.6042],\n",
      "        [ 0.2732, -0.8875,  0.6042],\n",
      "        [ 0.2732, -0.8875,  0.6042],\n",
      "        [ 0.2732, -0.8875,  0.6042],\n",
      "        [ 0.2732, -0.8875,  0.6042],\n",
      "        [ 0.2732, -0.8875,  0.6042],\n",
      "        [ 0.2732, -0.8875,  0.6042],\n",
      "        [ 0.2732, -0.8875,  0.6042],\n",
      "        [ 0.2732, -0.8875,  0.6042],\n",
      "        [ 0.2732, -0.8875,  0.6042],\n",
      "        [ 0.2732, -0.8875,  0.6042],\n",
      "        [ 0.2732, -0.8875,  0.6042],\n",
      "        [ 0.2732, -0.8875,  0.6042],\n",
      "        [ 0.2732, -0.8875,  0.6042],\n",
      "        [ 0.2732, -0.8875,  0.6042],\n",
      "        [ 0.2732, -0.8875,  0.6042],\n",
      "        [ 0.2732, -0.8875,  0.6042],\n",
      "        [ 0.2732, -0.8875,  0.6042],\n",
      "        [ 0.2732, -0.8875,  0.6042],\n",
      "        [ 0.2732, -0.8875,  0.6042],\n",
      "        [ 0.2732, -0.8875,  0.6042],\n",
      "        [ 0.2732, -0.8875,  0.6042],\n",
      "        [ 0.2732, -0.8875,  0.6042],\n",
      "        [ 0.2732, -0.8875,  0.6042],\n",
      "        [ 0.2732, -0.8875,  0.6042],\n",
      "        [ 0.2732, -0.8875,  0.6042]], grad_fn=<AddmmBackward0>)\n",
      "tensor([[ 0.2732, -0.8875,  0.6042],\n",
      "        [ 0.2732, -0.8875,  0.6042],\n",
      "        [ 0.2732, -0.8875,  0.6042],\n",
      "        [ 0.2732, -0.8875,  0.6042],\n",
      "        [ 0.2732, -0.8875,  0.6042],\n",
      "        [ 0.2732, -0.8875,  0.6042],\n",
      "        [ 0.2732, -0.8875,  0.6042],\n",
      "        [ 0.2732, -0.8875,  0.6042],\n",
      "        [ 0.2732, -0.8875,  0.6042],\n",
      "        [ 0.2732, -0.8875,  0.6042],\n",
      "        [ 0.2732, -0.8875,  0.6042],\n",
      "        [ 0.2732, -0.8875,  0.6042],\n",
      "        [ 0.2732, -0.8875,  0.6042],\n",
      "        [ 0.2732, -0.8875,  0.6042],\n",
      "        [ 0.2732, -0.8875,  0.6042],\n",
      "        [ 0.2732, -0.8875,  0.6042],\n",
      "        [ 0.2732, -0.8875,  0.6042],\n",
      "        [ 0.2732, -0.8875,  0.6042],\n",
      "        [ 0.2732, -0.8875,  0.6042],\n",
      "        [ 0.2732, -0.8875,  0.6042],\n",
      "        [ 0.2732, -0.8875,  0.6042],\n",
      "        [ 0.2732, -0.8875,  0.6042],\n",
      "        [ 0.2732, -0.8875,  0.6042],\n",
      "        [ 0.2732, -0.8875,  0.6042],\n",
      "        [ 0.2732, -0.8875,  0.6042],\n",
      "        [ 0.2732, -0.8875,  0.6042],\n",
      "        [ 0.2732, -0.8875,  0.6042],\n",
      "        [ 0.2732, -0.8875,  0.6042],\n",
      "        [ 0.2732, -0.8875,  0.6042],\n",
      "        [ 0.2732, -0.8875,  0.6042],\n",
      "        [ 0.2732, -0.8875,  0.6042],\n",
      "        [ 0.2732, -0.8875,  0.6042]], grad_fn=<AddmmBackward0>)\n",
      "tensor([[ 0.2732, -0.8875,  0.6042],\n",
      "        [ 0.2732, -0.8875,  0.6042],\n",
      "        [ 0.2732, -0.8875,  0.6042],\n",
      "        [ 0.2732, -0.8875,  0.6042],\n",
      "        [ 0.2732, -0.8875,  0.6042],\n",
      "        [ 0.2732, -0.8875,  0.6042],\n",
      "        [ 0.2732, -0.8875,  0.6042],\n",
      "        [ 0.2732, -0.8875,  0.6042],\n",
      "        [ 0.2732, -0.8875,  0.6042],\n",
      "        [ 0.2732, -0.8875,  0.6042],\n",
      "        [ 0.2732, -0.8875,  0.6042],\n",
      "        [ 0.2732, -0.8875,  0.6042],\n",
      "        [ 0.2732, -0.8875,  0.6042],\n",
      "        [ 0.2732, -0.8875,  0.6042],\n",
      "        [ 0.2732, -0.8875,  0.6042],\n",
      "        [ 0.2732, -0.8875,  0.6042],\n",
      "        [ 0.2732, -0.8875,  0.6042],\n",
      "        [ 0.2732, -0.8875,  0.6042],\n",
      "        [ 0.2732, -0.8875,  0.6042],\n",
      "        [ 0.2732, -0.8875,  0.6042],\n",
      "        [ 0.2732, -0.8875,  0.6042],\n",
      "        [ 0.2732, -0.8875,  0.6042],\n",
      "        [ 0.2732, -0.8875,  0.6042],\n",
      "        [ 0.2732, -0.8875,  0.6042],\n",
      "        [ 0.2732, -0.8875,  0.6042],\n",
      "        [ 0.2732, -0.8875,  0.6042],\n",
      "        [ 0.2732, -0.8875,  0.6042],\n",
      "        [ 0.2732, -0.8875,  0.6042],\n",
      "        [ 0.2732, -0.8875,  0.6042],\n",
      "        [ 0.2732, -0.8875,  0.6042],\n",
      "        [ 0.2732, -0.8875,  0.6042],\n",
      "        [ 0.2732, -0.8875,  0.6042]], grad_fn=<AddmmBackward0>)\n",
      "tensor([[ 0.2732, -0.8875,  0.6042],\n",
      "        [ 0.2732, -0.8875,  0.6042],\n",
      "        [ 0.2732, -0.8875,  0.6042],\n",
      "        [ 0.2732, -0.8875,  0.6042],\n",
      "        [ 0.2732, -0.8875,  0.6042],\n",
      "        [ 0.2732, -0.8875,  0.6042],\n",
      "        [ 0.2732, -0.8875,  0.6042],\n",
      "        [ 0.2732, -0.8875,  0.6042],\n",
      "        [ 0.2732, -0.8875,  0.6042],\n",
      "        [ 0.2732, -0.8875,  0.6042],\n",
      "        [ 0.2732, -0.8875,  0.6042],\n",
      "        [ 0.2732, -0.8875,  0.6042],\n",
      "        [ 0.2732, -0.8875,  0.6042],\n",
      "        [ 0.2732, -0.8875,  0.6042],\n",
      "        [ 0.2732, -0.8875,  0.6042],\n",
      "        [ 0.2732, -0.8875,  0.6042],\n",
      "        [ 0.2732, -0.8875,  0.6042],\n",
      "        [ 0.2732, -0.8875,  0.6042],\n",
      "        [ 0.2732, -0.8875,  0.6042],\n",
      "        [ 0.2732, -0.8875,  0.6042],\n",
      "        [ 0.2732, -0.8875,  0.6042],\n",
      "        [ 0.2732, -0.8875,  0.6042],\n",
      "        [ 0.2732, -0.8875,  0.6042],\n",
      "        [ 0.2732, -0.8875,  0.6042],\n",
      "        [ 0.2732, -0.8875,  0.6042],\n",
      "        [ 0.2732, -0.8875,  0.6042],\n",
      "        [ 0.2732, -0.8875,  0.6042],\n",
      "        [ 0.2732, -0.8875,  0.6042],\n",
      "        [ 0.2732, -0.8875,  0.6042],\n",
      "        [ 0.2732, -0.8875,  0.6042],\n",
      "        [ 0.2732, -0.8875,  0.6042],\n",
      "        [ 0.2732, -0.8875,  0.6042]], grad_fn=<AddmmBackward0>)\n",
      "tensor([[ 0.2732, -0.8875,  0.6042],\n",
      "        [ 0.2732, -0.8875,  0.6042],\n",
      "        [ 0.2732, -0.8875,  0.6042],\n",
      "        [ 0.2732, -0.8875,  0.6042],\n",
      "        [ 0.2732, -0.8875,  0.6042],\n",
      "        [ 0.2732, -0.8875,  0.6042],\n",
      "        [ 0.2732, -0.8875,  0.6042],\n",
      "        [ 0.2732, -0.8875,  0.6042],\n",
      "        [ 0.2732, -0.8875,  0.6042],\n",
      "        [ 0.2732, -0.8875,  0.6042],\n",
      "        [ 0.2732, -0.8875,  0.6042],\n",
      "        [ 0.2732, -0.8875,  0.6042],\n",
      "        [ 0.2732, -0.8875,  0.6042],\n",
      "        [ 0.2732, -0.8875,  0.6042],\n",
      "        [ 0.2732, -0.8875,  0.6042],\n",
      "        [ 0.2732, -0.8875,  0.6042],\n",
      "        [ 0.2732, -0.8875,  0.6042],\n",
      "        [ 0.2732, -0.8875,  0.6042],\n",
      "        [ 0.2732, -0.8875,  0.6042],\n",
      "        [ 0.2732, -0.8875,  0.6042],\n",
      "        [ 0.2732, -0.8875,  0.6042],\n",
      "        [ 0.2732, -0.8875,  0.6042],\n",
      "        [ 0.2732, -0.8875,  0.6042],\n",
      "        [ 0.2732, -0.8875,  0.6042],\n",
      "        [ 0.2732, -0.8875,  0.6042],\n",
      "        [ 0.2732, -0.8875,  0.6042],\n",
      "        [ 0.2732, -0.8875,  0.6042],\n",
      "        [ 0.2732, -0.8875,  0.6042],\n",
      "        [ 0.2732, -0.8875,  0.6042],\n",
      "        [ 0.2732, -0.8875,  0.6042],\n",
      "        [ 0.2732, -0.8875,  0.6042],\n",
      "        [ 0.2732, -0.8875,  0.6042]], grad_fn=<AddmmBackward0>)\n",
      "tensor([[ 0.2732, -0.8875,  0.6042],\n",
      "        [ 0.2732, -0.8875,  0.6042],\n",
      "        [ 0.2732, -0.8875,  0.6042],\n",
      "        [ 0.2732, -0.8875,  0.6042],\n",
      "        [ 0.2732, -0.8875,  0.6042],\n",
      "        [ 0.2732, -0.8875,  0.6042],\n",
      "        [ 0.2732, -0.8875,  0.6042],\n",
      "        [ 0.2732, -0.8875,  0.6042],\n",
      "        [ 0.2732, -0.8875,  0.6042],\n",
      "        [ 0.2732, -0.8875,  0.6042],\n",
      "        [ 0.2732, -0.8875,  0.6042],\n",
      "        [ 0.2732, -0.8875,  0.6042],\n",
      "        [ 0.2732, -0.8875,  0.6042],\n",
      "        [ 0.2732, -0.8875,  0.6042],\n",
      "        [ 0.2732, -0.8875,  0.6042],\n",
      "        [ 0.2732, -0.8875,  0.6042],\n",
      "        [ 0.2732, -0.8875,  0.6042],\n",
      "        [ 0.2732, -0.8875,  0.6042],\n",
      "        [ 0.2732, -0.8875,  0.6042],\n",
      "        [ 0.2732, -0.8875,  0.6042],\n",
      "        [ 0.2732, -0.8875,  0.6042],\n",
      "        [ 0.2732, -0.8875,  0.6042],\n",
      "        [ 0.2732, -0.8875,  0.6042],\n",
      "        [ 0.2732, -0.8875,  0.6042],\n",
      "        [ 0.2732, -0.8875,  0.6042],\n",
      "        [ 0.2732, -0.8875,  0.6042],\n",
      "        [ 0.2732, -0.8875,  0.6042],\n",
      "        [ 0.2732, -0.8875,  0.6042],\n",
      "        [ 0.2732, -0.8875,  0.6042],\n",
      "        [ 0.2732, -0.8875,  0.6042],\n",
      "        [ 0.2732, -0.8875,  0.6042],\n",
      "        [ 0.2732, -0.8875,  0.6042]], grad_fn=<AddmmBackward0>)\n",
      "tensor([[ 0.2732, -0.8875,  0.6042],\n",
      "        [ 0.2732, -0.8875,  0.6042],\n",
      "        [ 0.2732, -0.8875,  0.6042],\n",
      "        [ 0.2732, -0.8875,  0.6042],\n",
      "        [ 0.2732, -0.8875,  0.6042],\n",
      "        [ 0.2732, -0.8875,  0.6042],\n",
      "        [ 0.2732, -0.8875,  0.6042],\n",
      "        [ 0.2732, -0.8875,  0.6042],\n",
      "        [ 0.2732, -0.8875,  0.6042],\n",
      "        [ 0.2732, -0.8875,  0.6042]], grad_fn=<AddmmBackward0>)\n"
     ]
    }
   ],
   "source": [
    "for images, labels in test_dataloader:\n",
    "    scores = model(images)\n",
    "    print(scores)"
   ]
  },
  {
   "cell_type": "code",
   "execution_count": null,
   "id": "169a6827-3746-4802-9645-89a708754f5d",
   "metadata": {},
   "outputs": [],
   "source": []
  }
 ],
 "metadata": {
  "kernelspec": {
   "display_name": "Python 3 (ipykernel)",
   "language": "python",
   "name": "python3"
  },
  "language_info": {
   "codemirror_mode": {
    "name": "ipython",
    "version": 3
   },
   "file_extension": ".py",
   "mimetype": "text/x-python",
   "name": "python",
   "nbconvert_exporter": "python",
   "pygments_lexer": "ipython3",
   "version": "3.12.6"
  }
 },
 "nbformat": 4,
 "nbformat_minor": 5
}
