{
 "cells": [
  {
   "cell_type": "code",
   "execution_count": 1,
   "id": "620317fa",
   "metadata": {},
   "outputs": [],
   "source": [
    "import os\n",
    "import torch\n",
    "import torch.nn as nn\n",
    "from torch import optim\n",
    "from torchvision import transforms\n",
    "from torch.utils.data import Dataset, DataLoader, random_split\n",
    "import torch.nn.functional as F\n",
    "import PIL\n",
    "import pandas as pd\n",
    "import numpy as np\n",
    "import matplotlib.pyplot as plt\n",
    "import matplotlib.image as mpimg\n",
    "from tqdm import tqdm\n",
    "from sklearn.metrics import roc_auc_score\n",
    "import numpy as np\n",
    "\n",
    "PIL.ImageFile.LOAD_TRUNCATED_IMAGES = True"
   ]
  },
  {
   "cell_type": "markdown",
   "id": "0aeef6bc",
   "metadata": {},
   "source": [
    "## Training Splits"
   ]
  },
  {
   "cell_type": "code",
   "execution_count": 2,
   "id": "c7ffc1d9",
   "metadata": {},
   "outputs": [],
   "source": [
    "class BrainDataset(Dataset):\n",
    "    def __init__(self, data_dir, transform=None):\n",
    "        self.data_dir = data_dir\n",
    "        self.transform = transform\n",
    "        self.classes = [\"aneurysm\", \"tumor\", \"cancer\"]  # List the directories (class folders)\n",
    "        self.image_paths = []  # Store the paths of images\n",
    "        self.labels = []       # Store the labels corresponding to images\n",
    "\n",
    "        for label, class_name in enumerate(self.classes): # for each class (Normal = 0, Benign = 1, Malignant = 2)\n",
    "            class_folder = os.path.join(data_dir, class_name)\n",
    "            if os.path.isdir(class_folder):\n",
    "                for file_name in os.listdir(class_folder):\n",
    "                    if file_name.endswith(('.jpg', '.png', '.jpeg')):  # image datatypes\n",
    "                        self.image_paths.append(os.path.join(class_folder, file_name)) # append images\n",
    "                        self.labels.append(label) # append associated labels\n",
    "\n",
    "    def __len__(self):\n",
    "        return len(self.image_paths)\n",
    "\n",
    "    def __getitem__(self, idx):\n",
    "        # Load the image\n",
    "        img_path = self.image_paths[idx]\n",
    "        image = PIL.Image.open(img_path)\n",
    "\n",
    "        # Apply any transformations (if defined)\n",
    "        if self.transform:\n",
    "            image = self.transform(image)\n",
    "\n",
    "        # Return the image and the label\n",
    "        label = self.labels[idx]\n",
    "        return image, label\n",
    "\n"
   ]
  },
  {
   "cell_type": "code",
   "execution_count": 3,
   "id": "f22eb81a",
   "metadata": {},
   "outputs": [
    {
     "name": "stdout",
     "output_type": "stream",
     "text": [
      "Img Shape: torch.Size([1, 512, 512])\n",
      "Dataset Size: 259\n",
      "aneurysm Count: 84, Percent: 32.43\n",
      "tumor Count: 84, Percent: 32.43\n",
      "cancer Count: 91, Percent: 35.14\n"
     ]
    }
   ],
   "source": [
    "img_transform = transforms.Compose([\n",
    "    transforms.Resize((512, 512)), # resizing. some images are not 512x512\n",
    "    transforms.Grayscale(),\n",
    "    transforms.ToTensor()   # convert image to a tensor\n",
    "])\n",
    "\n",
    "\n",
    "brain_dataset = BrainDataset(\"../data/files/\", img_transform)\n",
    "print(f'Img Shape: {brain_dataset[0][0].shape}')\n",
    "\n",
    "print(f'Dataset Size: {len(brain_dataset)}')\n",
    "label_map = {0 : \"aneurysm\", 1 : \"tumor\", 2 : \"cancer\"}\n",
    "cts = np.unique(brain_dataset.labels, return_counts = True)\n",
    "for i in cts[0]:\n",
    "    label = label_map[i]\n",
    "    print(f'{label} Count: {cts[1][i]}, Percent: {100*cts[1][i]/len(brain_dataset):.2f}')"
   ]
  },
  {
   "cell_type": "code",
   "execution_count": 4,
   "id": "6f0449a5",
   "metadata": {},
   "outputs": [],
   "source": [
    "torch.manual_seed(35)  # set seed\n",
    "\n",
    "train_proportion = 0.7 # percent training set\n",
    "\n",
    "train_size = int(train_proportion * len(brain_dataset)) \n",
    "test_size = len(brain_dataset) - train_size \n",
    "\n",
    "train_dataset, test_dataset = random_split(brain_dataset, [train_size, test_size]) # split dataset into train and test"
   ]
  },
  {
   "cell_type": "code",
   "execution_count": 5,
   "id": "e8645755",
   "metadata": {},
   "outputs": [
    {
     "name": "stdout",
     "output_type": "stream",
     "text": [
      "Test Set Size: 78\n",
      "Test aneurysm Count: 34, Percent: 43.59\n",
      "Test tumor Count: 22, Percent: 28.21\n",
      "Test cancer Count: 22, Percent: 28.21\n"
     ]
    }
   ],
   "source": [
    "print(f'Test Set Size: {len(test_dataset.indices)}')\n",
    "cts = np.unique([brain_dataset[i][1] for i in test_dataset.indices], return_counts = True)\n",
    "for i in cts[0]:\n",
    "    label = label_map[i]\n",
    "    print(f'Test {label} Count: {cts[1][i]}, Percent: {100*cts[1][i]/len(test_dataset.indices):.2f}')"
   ]
  },
  {
   "cell_type": "code",
   "execution_count": 6,
   "id": "3ffb4de1",
   "metadata": {},
   "outputs": [],
   "source": [
    "# initialize dataloaders\n",
    "train_dataloader = DataLoader(train_dataset, batch_size=32, shuffle=True)\n",
    "test_dataloader = DataLoader(test_dataset, batch_size=32, shuffle=False)"
   ]
  },
  {
   "cell_type": "markdown",
   "id": "d39e965f",
   "metadata": {},
   "source": [
    "## CNN Modeling"
   ]
  },
  {
   "cell_type": "code",
   "execution_count": 7,
   "id": "32df6ae5",
   "metadata": {},
   "outputs": [],
   "source": [
    "class CNN(nn.Module):\n",
    "    def __init__(self):\n",
    "        super(CNN, self).__init__()\n",
    "\n",
    "        #max pooling layer\n",
    "        self.pool = nn.MaxPool2d(kernel_size=2, stride=2, padding=0)\n",
    "\n",
    "        # convolutional layers\n",
    "        self.conv1 = nn.Conv2d(1, 8, kernel_size=3, stride=1, padding=1)        \n",
    "        self.conv2 = nn.Conv2d(8, 16, kernel_size=3, stride=1, padding=1)\n",
    "        self.conv3 = nn.Conv2d(16, 32, kernel_size=3, stride=1, padding=1)\n",
    "\n",
    "        self.linear = nn.Linear(32*64*64, 3)\n",
    "\n",
    "    def forward(self, x):\n",
    "        # 512 x 512\n",
    "        x = self.pool(F.relu(self.conv1(x))) # 256x256\n",
    "        x = self.pool(F.relu(self.conv2(x))) # 128x128\n",
    "        x = self.pool(F.relu(self.conv3(x))) # 64x64\n",
    "\n",
    "        x = torch.flatten(x, 1)\n",
    "        x = self.linear(x)\n",
    "        return x"
   ]
  },
  {
   "cell_type": "code",
   "execution_count": 8,
   "id": "0beb6e0f",
   "metadata": {},
   "outputs": [],
   "source": [
    "model = CNN()\n",
    "\n",
    "\n",
    "device = torch.device(\"cuda\" if torch.cuda.is_available() else \"cpu\")\n",
    "model.to(device)  # Move model to the appropriate device\n",
    "\n",
    "\n",
    "num_epochs = 20\n",
    "optimizer = optim.Adam(model.parameters(), lr = 0.001)\n",
    "criterion = nn.CrossEntropyLoss()"
   ]
  },
  {
   "cell_type": "code",
   "execution_count": null,
   "id": "85544168",
   "metadata": {},
   "outputs": [],
   "source": []
  },
  {
   "cell_type": "code",
   "execution_count": 9,
   "id": "3277082f",
   "metadata": {},
   "outputs": [
    {
     "name": "stdout",
     "output_type": "stream",
     "text": [
      "Epoch 1\n"
     ]
    },
    {
     "name": "stderr",
     "output_type": "stream",
     "text": [
      "Epoch 1/20: 100%|████████████████████████████████████████████████████████████████████████| 6/6 [00:01<00:00,  3.39it/s]\n"
     ]
    },
    {
     "name": "stdout",
     "output_type": "stream",
     "text": [
      "Train Loss: 1.4489\n",
      "Valid Loss: 0.9493\n",
      "Epoch 2\n"
     ]
    },
    {
     "name": "stderr",
     "output_type": "stream",
     "text": [
      "Epoch 2/20: 100%|████████████████████████████████████████████████████████████████████████| 6/6 [00:01<00:00,  4.50it/s]\n"
     ]
    },
    {
     "name": "stdout",
     "output_type": "stream",
     "text": [
      "Train Loss: 0.5267\n",
      "Valid Loss: 0.4157\n",
      "Epoch 3\n"
     ]
    },
    {
     "name": "stderr",
     "output_type": "stream",
     "text": [
      "Epoch 3/20: 100%|████████████████████████████████████████████████████████████████████████| 6/6 [00:01<00:00,  4.15it/s]\n"
     ]
    },
    {
     "name": "stdout",
     "output_type": "stream",
     "text": [
      "Train Loss: 0.1828\n",
      "Valid Loss: 0.2422\n",
      "Epoch 4\n"
     ]
    },
    {
     "name": "stderr",
     "output_type": "stream",
     "text": [
      "Epoch 4/20: 100%|████████████████████████████████████████████████████████████████████████| 6/6 [00:01<00:00,  4.26it/s]\n"
     ]
    },
    {
     "name": "stdout",
     "output_type": "stream",
     "text": [
      "Train Loss: 0.1148\n",
      "Valid Loss: 0.1648\n",
      "Epoch 5\n"
     ]
    },
    {
     "name": "stderr",
     "output_type": "stream",
     "text": [
      "Epoch 5/20: 100%|████████████████████████████████████████████████████████████████████████| 6/6 [00:01<00:00,  4.59it/s]\n"
     ]
    },
    {
     "name": "stdout",
     "output_type": "stream",
     "text": [
      "Train Loss: 0.0584\n",
      "Valid Loss: 0.1648\n",
      "Epoch 6\n"
     ]
    },
    {
     "name": "stderr",
     "output_type": "stream",
     "text": [
      "Epoch 6/20: 100%|████████████████████████████████████████████████████████████████████████| 6/6 [00:01<00:00,  4.77it/s]\n"
     ]
    },
    {
     "name": "stdout",
     "output_type": "stream",
     "text": [
      "Train Loss: 0.0745\n",
      "Valid Loss: 0.1297\n",
      "Epoch 7\n"
     ]
    },
    {
     "name": "stderr",
     "output_type": "stream",
     "text": [
      "Epoch 7/20: 100%|████████████████████████████████████████████████████████████████████████| 6/6 [00:01<00:00,  4.84it/s]\n"
     ]
    },
    {
     "name": "stdout",
     "output_type": "stream",
     "text": [
      "Train Loss: 0.0269\n",
      "Valid Loss: 0.1581\n",
      "Epoch 8\n"
     ]
    },
    {
     "name": "stderr",
     "output_type": "stream",
     "text": [
      "Epoch 8/20: 100%|████████████████████████████████████████████████████████████████████████| 6/6 [00:01<00:00,  4.71it/s]\n"
     ]
    },
    {
     "name": "stdout",
     "output_type": "stream",
     "text": [
      "Train Loss: 0.0652\n",
      "Valid Loss: 0.1687\n",
      "Epoch 9\n"
     ]
    },
    {
     "name": "stderr",
     "output_type": "stream",
     "text": [
      "Epoch 9/20: 100%|████████████████████████████████████████████████████████████████████████| 6/6 [00:01<00:00,  4.86it/s]\n"
     ]
    },
    {
     "name": "stdout",
     "output_type": "stream",
     "text": [
      "Train Loss: 0.0234\n",
      "Valid Loss: 0.0690\n",
      "Epoch 10\n"
     ]
    },
    {
     "name": "stderr",
     "output_type": "stream",
     "text": [
      "Epoch 10/20: 100%|███████████████████████████████████████████████████████████████████████| 6/6 [00:01<00:00,  4.86it/s]\n"
     ]
    },
    {
     "name": "stdout",
     "output_type": "stream",
     "text": [
      "Train Loss: 0.0398\n",
      "Valid Loss: 0.0741\n",
      "Epoch 11\n"
     ]
    },
    {
     "name": "stderr",
     "output_type": "stream",
     "text": [
      "Epoch 11/20: 100%|███████████████████████████████████████████████████████████████████████| 6/6 [00:01<00:00,  4.73it/s]\n"
     ]
    },
    {
     "name": "stdout",
     "output_type": "stream",
     "text": [
      "Train Loss: 0.0250\n",
      "Valid Loss: 0.0767\n",
      "Epoch 12\n"
     ]
    },
    {
     "name": "stderr",
     "output_type": "stream",
     "text": [
      "Epoch 12/20: 100%|███████████████████████████████████████████████████████████████████████| 6/6 [00:01<00:00,  4.84it/s]\n"
     ]
    },
    {
     "name": "stdout",
     "output_type": "stream",
     "text": [
      "Train Loss: 0.0164\n",
      "Valid Loss: 0.0818\n",
      "Epoch 13\n"
     ]
    },
    {
     "name": "stderr",
     "output_type": "stream",
     "text": [
      "Epoch 13/20: 100%|███████████████████████████████████████████████████████████████████████| 6/6 [00:01<00:00,  4.87it/s]\n"
     ]
    },
    {
     "name": "stdout",
     "output_type": "stream",
     "text": [
      "Train Loss: 0.0241\n",
      "Valid Loss: 0.0746\n",
      "Epoch 14\n"
     ]
    },
    {
     "name": "stderr",
     "output_type": "stream",
     "text": [
      "Epoch 14/20: 100%|███████████████████████████████████████████████████████████████████████| 6/6 [00:01<00:00,  4.89it/s]\n"
     ]
    },
    {
     "name": "stdout",
     "output_type": "stream",
     "text": [
      "Train Loss: 0.0148\n",
      "Valid Loss: 0.0775\n",
      "Epoch 15\n"
     ]
    },
    {
     "name": "stderr",
     "output_type": "stream",
     "text": [
      "Epoch 15/20: 100%|███████████████████████████████████████████████████████████████████████| 6/6 [00:01<00:00,  4.82it/s]\n"
     ]
    },
    {
     "name": "stdout",
     "output_type": "stream",
     "text": [
      "Train Loss: 0.0383\n",
      "Valid Loss: 0.0707\n",
      "Epoch 16\n"
     ]
    },
    {
     "name": "stderr",
     "output_type": "stream",
     "text": [
      "Epoch 16/20: 100%|███████████████████████████████████████████████████████████████████████| 6/6 [00:01<00:00,  4.75it/s]\n"
     ]
    },
    {
     "name": "stdout",
     "output_type": "stream",
     "text": [
      "Train Loss: 0.0292\n",
      "Valid Loss: 0.1179\n",
      "Epoch 17\n"
     ]
    },
    {
     "name": "stderr",
     "output_type": "stream",
     "text": [
      "Epoch 17/20: 100%|███████████████████████████████████████████████████████████████████████| 6/6 [00:01<00:00,  4.76it/s]\n"
     ]
    },
    {
     "name": "stdout",
     "output_type": "stream",
     "text": [
      "Train Loss: 0.0233\n",
      "Valid Loss: 0.0710\n",
      "Epoch 18\n"
     ]
    },
    {
     "name": "stderr",
     "output_type": "stream",
     "text": [
      "Epoch 18/20: 100%|███████████████████████████████████████████████████████████████████████| 6/6 [00:01<00:00,  4.85it/s]\n"
     ]
    },
    {
     "name": "stdout",
     "output_type": "stream",
     "text": [
      "Train Loss: 0.0272\n",
      "Valid Loss: 0.0711\n",
      "Epoch 19\n"
     ]
    },
    {
     "name": "stderr",
     "output_type": "stream",
     "text": [
      "Epoch 19/20: 100%|███████████████████████████████████████████████████████████████████████| 6/6 [00:01<00:00,  4.86it/s]\n"
     ]
    },
    {
     "name": "stdout",
     "output_type": "stream",
     "text": [
      "Train Loss: 0.0163\n",
      "Valid Loss: 0.0743\n",
      "Epoch 20\n"
     ]
    },
    {
     "name": "stderr",
     "output_type": "stream",
     "text": [
      "Epoch 20/20: 100%|███████████████████████████████████████████████████████████████████████| 6/6 [00:01<00:00,  4.75it/s]\n"
     ]
    },
    {
     "name": "stdout",
     "output_type": "stream",
     "text": [
      "Train Loss: 0.0115\n",
      "Valid Loss: 0.0695\n"
     ]
    }
   ],
   "source": [
    "results = []\n",
    "for epoch in range(1, num_epochs+1):\n",
    "    print(f'Epoch {epoch}')\n",
    "    model.train()  # set model to train\n",
    "    running_loss = 0.0\n",
    "    \n",
    "    for images, labels in tqdm(train_dataloader, desc=f\"Epoch {epoch}/{num_epochs}\"):\n",
    "        images, labels = images.to(device), labels.to(device).long()\n",
    "\n",
    "        # zero out gradients\n",
    "        optimizer.zero_grad()\n",
    "\n",
    "        # Forward pass\n",
    "        outputs = model(images)\n",
    "        loss = criterion(outputs, labels)\n",
    "        \n",
    "        # Backward pass and optimization\n",
    "        loss.backward()\n",
    "        optimizer.step()\n",
    "\n",
    "        running_loss += loss.item()\n",
    "        \n",
    "    model.eval() # set model to evaluation mode\n",
    "    \n",
    "    valid_loss = 0.0\n",
    "    for images, labels in test_dataloader:\n",
    "        images, labels= images.to(device), labels.to(device)\n",
    "        outputs = model(images)\n",
    "        loss = criterion(outputs, labels)\n",
    "\n",
    "        valid_loss += loss.item()\n",
    "\n",
    "    avg_loss = running_loss / len(train_dataloader)\n",
    "    avg_valid_loss = valid_loss / len(test_dataloader)\n",
    "    results.append([epoch, avg_loss, avg_valid_loss])\n",
    "    if i%2 == 0:\n",
    "        print(f\"Train Loss: {avg_loss:.4f}\")\n",
    "        print(f\"Valid Loss: {avg_valid_loss:.4f}\")\n",
    "\n"
   ]
  },
  {
   "cell_type": "code",
   "execution_count": 10,
   "id": "6f0e01d6",
   "metadata": {},
   "outputs": [
    {
     "data": {
      "image/png": "[encoded data removed]",
      "text/plain": [
       "<Figure size 1000x700 with 1 Axes>"
      ]
     },
     "metadata": {},
     "output_type": "display_data"
    }
   ],
   "source": [
    "arr_results = np.array(results)\n",
    "fig = plt.figure(figsize = (10,7))\n",
    "plt.plot(arr_results[:, 0], arr_results[:, 1], label = 'Training Loss', c = 'b')\n",
    "plt.plot(arr_results[:, 0], arr_results[:, 2], label = 'Test Loss', c = 'r')\n",
    "plt.suptitle('')\n",
    "plt.xlabel('Epoch')\n",
    "plt.ylabel('Average Loss')\n",
    "plt.legend()\n",
    "plt.show()"
   ]
  },
  {
   "cell_type": "code",
   "execution_count": 11,
   "id": "3f31adfc",
   "metadata": {},
   "outputs": [],
   "source": [
    "test_labels = []\n",
    "test_pred_prob = []\n",
    "test_preds = []\n",
    "device = torch.device(\"cuda\" if torch.cuda.is_available() else \"cpu\")\n",
    "model.to(device)  # Ensure the model is on the correct device\n",
    "\n",
    "\n",
    "for images, labels in test_dataloader:\n",
    "    images = images.to(device)\n",
    "    scores = model(images).to(\"cpu\") # get scores from model\n",
    "    pred_prob = F.softmax(scores, dim = 1) # get predicted probabilities\n",
    "    preds = torch.argmax(pred_prob, axis = 1) # get predicted class\n",
    "\n",
    "    # append to list for entire test set\n",
    "    test_labels.extend(labels)\n",
    "    test_pred_prob.extend(pred_prob)\n",
    "    test_preds.extend(preds)"
   ]
  },
  {
   "cell_type": "code",
   "execution_count": 12,
   "id": "971e9b95",
   "metadata": {},
   "outputs": [
    {
     "data": {
      "image/png": "[encoded data removed]",
      "text/plain": [
       "<Figure size 800x600 with 2 Axes>"
      ]
     },
     "metadata": {},
     "output_type": "display_data"
    }
   ],
   "source": [
    "from sklearn.metrics import confusion_matrix, ConfusionMatrixDisplay\n",
    "\n",
    "# Convert lists to NumPy arrays\n",
    "test_labels = np.array(test_labels)\n",
    "test_preds = np.array(test_preds)\n",
    "\n",
    "# Compute confusion matrix\n",
    "cm = confusion_matrix(test_labels, test_preds)\n",
    "\n",
    "# Define class names\n",
    "class_names = [\"aneurysm\", \"tumor\", \"cancer\"]\n",
    "\n",
    "# Plot confusion matrix\n",
    "fig, ax = plt.subplots(figsize=(8, 6))\n",
    "disp = ConfusionMatrixDisplay(confusion_matrix=cm, display_labels=class_names)\n",
    "disp.plot(cmap=plt.cm.Blues, ax=ax)\n",
    "\n",
    "plt.title(\"Confusion Matrix\")\n",
    "plt.show()"
   ]
  },
  {
   "cell_type": "markdown",
   "id": "1930db62",
   "metadata": {},
   "source": [
    "## Dense Net"
   ]
  },
  {
   "cell_type": "code",
   "execution_count": 14,
   "id": "4f224899",
   "metadata": {},
   "outputs": [
    {
     "name": "stdout",
     "output_type": "stream",
     "text": [
      "Img Shape: torch.Size([1, 64, 64])\n",
      "Dataset Size: 259\n",
      "aneurysm Count: 84, Percent: 32.43\n",
      "tumor Count: 84, Percent: 32.43\n",
      "cancer Count: 91, Percent: 35.14\n"
     ]
    }
   ],
   "source": [
    "img_transform = transforms.Compose([\n",
    "    transforms.Resize((64, 64)), # resizing. some images are not 512x512\n",
    "    transforms.Grayscale(),\n",
    "    transforms.ToTensor()   # convert image to a tensor\n",
    "])\n",
    "\n",
    "\n",
    "brain_dataset = BrainDataset(\"../data/files/\", img_transform)\n",
    "print(f'Img Shape: {brain_dataset[0][0].shape}')\n",
    "\n",
    "print(f'Dataset Size: {len(brain_dataset)}')\n",
    "label_map = {0 : \"aneurysm\", 1 : \"tumor\", 2 : \"cancer\"}\n",
    "cts = np.unique(brain_dataset.labels, return_counts = True)\n",
    "for i in cts[0]:\n",
    "    label = label_map[i]\n",
    "    print(f'{label} Count: {cts[1][i]}, Percent: {100*cts[1][i]/len(brain_dataset):.2f}')\n",
    "    \n",
    "torch.manual_seed(35)  # set seed\n",
    "\n",
    "train_proportion = 0.7 # percent training set\n",
    "\n",
    "train_size = int(train_proportion * len(brain_dataset)) \n",
    "test_size = len(brain_dataset) - train_size \n",
    "\n",
    "train_dataset, test_dataset = random_split(brain_dataset, [train_size, test_size]) # split dataset into train and test\n",
    "\n",
    "train_dataloader = DataLoader(train_dataset, batch_size=32, shuffle=True)\n",
    "test_dataloader = DataLoader(test_dataset, batch_size=32, shuffle=False)"
   ]
  },
  {
   "cell_type": "code",
   "execution_count": 15,
   "id": "eef8c80b",
   "metadata": {},
   "outputs": [
    {
     "name": "stdout",
     "output_type": "stream",
     "text": [
      "Epoch 1\n"
     ]
    },
    {
     "name": "stderr",
     "output_type": "stream",
     "text": [
      "Epoch 1/20: 100%|████████████████████████████████████████████████████████████████████████| 6/6 [00:00<00:00,  6.18it/s]\n"
     ]
    },
    {
     "name": "stdout",
     "output_type": "stream",
     "text": [
      "Epoch 2\n"
     ]
    },
    {
     "name": "stderr",
     "output_type": "stream",
     "text": [
      "Epoch 2/20: 100%|████████████████████████████████████████████████████████████████████████| 6/6 [00:00<00:00,  6.72it/s]\n"
     ]
    },
    {
     "name": "stdout",
     "output_type": "stream",
     "text": [
      "Train Loss: 0.7053\n",
      "Valid Loss: 0.6698\n",
      "ROC-AUC Score: 0.9304\n",
      "Epoch 3\n"
     ]
    },
    {
     "name": "stderr",
     "output_type": "stream",
     "text": [
      "Epoch 3/20: 100%|████████████████████████████████████████████████████████████████████████| 6/6 [00:00<00:00,  6.44it/s]\n"
     ]
    },
    {
     "name": "stdout",
     "output_type": "stream",
     "text": [
      "Epoch 4\n"
     ]
    },
    {
     "name": "stderr",
     "output_type": "stream",
     "text": [
      "Epoch 4/20: 100%|████████████████████████████████████████████████████████████████████████| 6/6 [00:00<00:00,  6.77it/s]\n"
     ]
    },
    {
     "name": "stdout",
     "output_type": "stream",
     "text": [
      "Train Loss: 0.5841\n",
      "Valid Loss: 0.6087\n",
      "ROC-AUC Score: 0.9334\n",
      "Epoch 5\n"
     ]
    },
    {
     "name": "stderr",
     "output_type": "stream",
     "text": [
      "Epoch 5/20: 100%|████████████████████████████████████████████████████████████████████████| 6/6 [00:00<00:00,  6.57it/s]\n"
     ]
    },
    {
     "name": "stdout",
     "output_type": "stream",
     "text": [
      "Epoch 6\n"
     ]
    },
    {
     "name": "stderr",
     "output_type": "stream",
     "text": [
      "Epoch 6/20: 100%|████████████████████████████████████████████████████████████████████████| 6/6 [00:00<00:00,  7.53it/s]\n"
     ]
    },
    {
     "name": "stdout",
     "output_type": "stream",
     "text": [
      "Train Loss: 0.5701\n",
      "Valid Loss: 0.6064\n",
      "ROC-AUC Score: 0.9361\n",
      "Epoch 7\n"
     ]
    },
    {
     "name": "stderr",
     "output_type": "stream",
     "text": [
      "Epoch 7/20: 100%|████████████████████████████████████████████████████████████████████████| 6/6 [00:00<00:00,  8.65it/s]\n"
     ]
    },
    {
     "name": "stdout",
     "output_type": "stream",
     "text": [
      "Epoch 8\n"
     ]
    },
    {
     "name": "stderr",
     "output_type": "stream",
     "text": [
      "Epoch 8/20: 100%|████████████████████████████████████████████████████████████████████████| 6/6 [00:00<00:00,  6.63it/s]\n"
     ]
    },
    {
     "name": "stdout",
     "output_type": "stream",
     "text": [
      "Train Loss: 0.5687\n",
      "Valid Loss: 0.6039\n",
      "ROC-AUC Score: 0.9388\n",
      "Epoch 9\n"
     ]
    },
    {
     "name": "stderr",
     "output_type": "stream",
     "text": [
      "Epoch 9/20: 100%|████████████████████████████████████████████████████████████████████████| 6/6 [00:00<00:00,  6.78it/s]\n"
     ]
    },
    {
     "name": "stdout",
     "output_type": "stream",
     "text": [
      "Epoch 10\n"
     ]
    },
    {
     "name": "stderr",
     "output_type": "stream",
     "text": [
      "Epoch 10/20: 100%|███████████████████████████████████████████████████████████████████████| 6/6 [00:00<00:00,  6.60it/s]\n"
     ]
    },
    {
     "name": "stdout",
     "output_type": "stream",
     "text": [
      "Train Loss: 0.5703\n",
      "Valid Loss: 0.6035\n",
      "ROC-AUC Score: 0.9394\n",
      "Epoch 11\n"
     ]
    },
    {
     "name": "stderr",
     "output_type": "stream",
     "text": [
      "Epoch 11/20: 100%|███████████████████████████████████████████████████████████████████████| 6/6 [00:00<00:00,  7.03it/s]\n"
     ]
    },
    {
     "name": "stdout",
     "output_type": "stream",
     "text": [
      "Epoch 12\n"
     ]
    },
    {
     "name": "stderr",
     "output_type": "stream",
     "text": [
      "Epoch 12/20: 100%|███████████████████████████████████████████████████████████████████████| 6/6 [00:00<00:00,  8.61it/s]\n"
     ]
    },
    {
     "name": "stdout",
     "output_type": "stream",
     "text": [
      "Train Loss: 0.5700\n",
      "Valid Loss: 0.6034\n",
      "ROC-AUC Score: 0.9394\n",
      "Epoch 13\n"
     ]
    },
    {
     "name": "stderr",
     "output_type": "stream",
     "text": [
      "Epoch 13/20: 100%|███████████████████████████████████████████████████████████████████████| 6/6 [00:00<00:00,  7.73it/s]\n"
     ]
    },
    {
     "name": "stdout",
     "output_type": "stream",
     "text": [
      "Epoch 14\n"
     ]
    },
    {
     "name": "stderr",
     "output_type": "stream",
     "text": [
      "Epoch 14/20: 100%|███████████████████████████████████████████████████████████████████████| 6/6 [00:00<00:00,  6.59it/s]\n"
     ]
    },
    {
     "name": "stdout",
     "output_type": "stream",
     "text": [
      "Train Loss: 0.5672\n",
      "Valid Loss: 0.6033\n",
      "ROC-AUC Score: 0.9405\n",
      "Epoch 15\n"
     ]
    },
    {
     "name": "stderr",
     "output_type": "stream",
     "text": [
      "Epoch 15/20: 100%|███████████████████████████████████████████████████████████████████████| 6/6 [00:00<00:00,  6.75it/s]\n"
     ]
    },
    {
     "name": "stdout",
     "output_type": "stream",
     "text": [
      "Epoch 16\n"
     ]
    },
    {
     "name": "stderr",
     "output_type": "stream",
     "text": [
      "Epoch 16/20: 100%|███████████████████████████████████████████████████████████████████████| 6/6 [00:00<00:00,  7.06it/s]\n"
     ]
    },
    {
     "name": "stdout",
     "output_type": "stream",
     "text": [
      "Train Loss: 0.5671\n",
      "Valid Loss: 0.6031\n",
      "ROC-AUC Score: 0.9405\n",
      "Epoch 17\n"
     ]
    },
    {
     "name": "stderr",
     "output_type": "stream",
     "text": [
      "Epoch 17/20: 100%|███████████████████████████████████████████████████████████████████████| 6/6 [00:00<00:00,  8.54it/s]\n"
     ]
    },
    {
     "name": "stdout",
     "output_type": "stream",
     "text": [
      "Epoch 18\n"
     ]
    },
    {
     "name": "stderr",
     "output_type": "stream",
     "text": [
      "Epoch 18/20: 100%|███████████████████████████████████████████████████████████████████████| 6/6 [00:00<00:00,  7.50it/s]\n"
     ]
    },
    {
     "name": "stdout",
     "output_type": "stream",
     "text": [
      "Train Loss: 0.5699\n",
      "Valid Loss: 0.6031\n",
      "ROC-AUC Score: 0.9405\n",
      "Epoch 19\n"
     ]
    },
    {
     "name": "stderr",
     "output_type": "stream",
     "text": [
      "Epoch 19/20: 100%|███████████████████████████████████████████████████████████████████████| 6/6 [00:00<00:00,  6.83it/s]\n"
     ]
    },
    {
     "name": "stdout",
     "output_type": "stream",
     "text": [
      "Epoch 20\n"
     ]
    },
    {
     "name": "stderr",
     "output_type": "stream",
     "text": [
      "Epoch 20/20: 100%|███████████████████████████████████████████████████████████████████████| 6/6 [00:00<00:00,  7.60it/s]\n"
     ]
    },
    {
     "name": "stdout",
     "output_type": "stream",
     "text": [
      "Train Loss: 0.5671\n",
      "Valid Loss: 0.6030\n",
      "ROC-AUC Score: 0.9405\n",
      "Training complete!\n"
     ]
    }
   ],
   "source": [
    "import torch\n",
    "import torch.nn as nn\n",
    "import torch.optim as optim\n",
    "from torch.utils.data import DataLoader\n",
    "from tqdm import tqdm\n",
    "\n",
    "# Define a Dense Neural Network\n",
    "class DenseNet(nn.Module):\n",
    "    def __init__(self, input_size=64*64):\n",
    "        super(DenseNet, self).__init__()\n",
    "        self.fc1 = nn.Linear(input_size, 1024)\n",
    "        self.fc2 = nn.Linear(1024, 512)\n",
    "        self.fc3 = nn.Linear(512, 3)  # 3 classes\n",
    "        self.relu = nn.ReLU()\n",
    "        self.softmax = nn.Softmax(dim=1)\n",
    "    \n",
    "    def forward(self, x):\n",
    "        x = x.view(x.size(0), -1)  # Flatten the input\n",
    "        x = self.relu(self.fc1(x))\n",
    "        x = self.relu(self.fc2(x))\n",
    "        x = self.softmax(self.fc3(x))\n",
    "        return x\n",
    "\n",
    "# Initialize Model\n",
    "model = DenseNet()\n",
    "device = torch.device(\"cuda\" if torch.cuda.is_available() else \"cpu\")\n",
    "model.to(device)\n",
    "criterion = nn.CrossEntropyLoss()\n",
    "optimizer = optim.Adam(model.parameters(), lr=0.001)\n",
    "\n",
    "# Data Loaders\n",
    "train_loader = DataLoader(train_dataset, batch_size=32, shuffle=True)\n",
    "test_loader = DataLoader(test_dataset, batch_size=32, shuffle=False)\n",
    "\n",
    "# Training Loop\n",
    "num_epochs = 20\n",
    "results = []\n",
    "for epoch in range(1, num_epochs + 1):\n",
    "    print(f'Epoch {epoch}')\n",
    "    model.train()\n",
    "    running_loss = 0.0\n",
    "    \n",
    "    for images, labels in tqdm(train_loader, desc=f\"Epoch {epoch}/{num_epochs}\"):\n",
    "        images, labels = images.to(device), labels.to(device).long()\n",
    "\n",
    "        optimizer.zero_grad()\n",
    "        outputs = model(images)\n",
    "        loss = criterion(outputs, labels)\n",
    "        \n",
    "        loss.backward()\n",
    "        optimizer.step()\n",
    "        running_loss += loss.item()\n",
    "    \n",
    "    model.eval()\n",
    "    valid_loss = 0.0\n",
    "    all_labels = []\n",
    "    all_preds = []\n",
    "    with torch.no_grad():\n",
    "        for images, labels in test_loader:\n",
    "            images, labels = images.to(device), labels.to(device)\n",
    "            outputs = model(images)\n",
    "            loss = criterion(outputs, labels)\n",
    "            valid_loss += loss.item()\n",
    "            \n",
    "            all_labels.extend(labels.cpu().numpy())\n",
    "            all_preds.extend(outputs.cpu().numpy())\n",
    "    \n",
    "    avg_loss = running_loss / len(train_loader)\n",
    "    avg_valid_loss = valid_loss / len(test_loader)\n",
    "    results.append([epoch, avg_loss, avg_valid_loss])\n",
    "    \n",
    "    all_labels = np.array(all_labels)\n",
    "    all_preds = np.array(all_preds)\n",
    "    roc_auc = roc_auc_score(all_labels, all_preds, multi_class='ovr')\n",
    "    \n",
    "    if epoch % 2 == 0:\n",
    "        print(f\"Train Loss: {avg_loss:.4f}\")\n",
    "        print(f\"Valid Loss: {avg_valid_loss:.4f}\")\n",
    "        print(f\"ROC-AUC Score: {roc_auc:.4f}\")\n",
    "\n",
    "print(\"Training complete!\")\n"
   ]
  },
  {
   "cell_type": "code",
   "execution_count": 16,
   "id": "46ba474d",
   "metadata": {},
   "outputs": [
    {
     "data": {
      "image/png": "[encoded data removed]",
      "text/plain": [
       "<Figure size 1000x700 with 1 Axes>"
      ]
     },
     "metadata": {},
     "output_type": "display_data"
    }
   ],
   "source": [
    "arr_results = np.array(results)\n",
    "fig = plt.figure(figsize = (10,7))\n",
    "plt.plot(arr_results[:, 0], arr_results[:, 1], label = 'Training Loss', c = 'b')\n",
    "plt.plot(arr_results[:, 0], arr_results[:, 2], label = 'Test Loss', c = 'r')\n",
    "plt.suptitle('')\n",
    "plt.xlabel('Epoch')\n",
    "plt.ylabel('Average Loss')\n",
    "plt.legend()\n",
    "plt.show()"
   ]
  },
  {
   "cell_type": "code",
   "execution_count": 17,
   "id": "849b4a1e",
   "metadata": {},
   "outputs": [],
   "source": [
    "test_labels = []\n",
    "test_pred_prob = []\n",
    "test_preds = []\n",
    "device = torch.device(\"cuda\" if torch.cuda.is_available() else \"cpu\")\n",
    "model.to(device)  # Ensure the model is on the correct device\n",
    "\n",
    "\n",
    "for images, labels in test_dataloader:\n",
    "    images = images.to(device)\n",
    "    scores = model(images).to(\"cpu\") # get scores from model\n",
    "    pred_prob = F.softmax(scores, dim = 1) # get predicted probabilities\n",
    "    preds = torch.argmax(pred_prob, axis = 1) # get predicted class\n",
    "\n",
    "    # append to list for entire test set\n",
    "    test_labels.extend(labels)\n",
    "    test_pred_prob.extend(pred_prob)\n",
    "    test_preds.extend(preds)"
   ]
  },
  {
   "cell_type": "code",
   "execution_count": 18,
   "id": "ebe81bd3",
   "metadata": {},
   "outputs": [
    {
     "data": {
      "image/png": "[encoded data removed]",
      "text/plain": [
       "<Figure size 800x600 with 2 Axes>"
      ]
     },
     "metadata": {},
     "output_type": "display_data"
    }
   ],
   "source": [
    "from sklearn.metrics import confusion_matrix, ConfusionMatrixDisplay\n",
    "\n",
    "# Convert lists to NumPy arrays\n",
    "test_labels = np.array(test_labels)\n",
    "test_preds = np.array(test_preds)\n",
    "\n",
    "# Compute confusion matrix\n",
    "cm = confusion_matrix(test_labels, test_preds)\n",
    "\n",
    "# Define class names\n",
    "class_names = [\"aneurysm\", \"tumor\", \"cancer\"]\n",
    "\n",
    "# Plot confusion matrix\n",
    "fig, ax = plt.subplots(figsize=(8, 6))\n",
    "disp = ConfusionMatrixDisplay(confusion_matrix=cm, display_labels=class_names)\n",
    "disp.plot(cmap=plt.cm.Blues, ax=ax)\n",
    "\n",
    "plt.title(\"Confusion Matrix\")\n",
    "plt.show()"
   ]
  },
  {
   "cell_type": "code",
   "execution_count": null,
   "id": "ced5a684",
   "metadata": {},
   "outputs": [],
   "source": []
  },
  {
   "cell_type": "code",
   "execution_count": null,
   "id": "8f7f8650",
   "metadata": {},
   "outputs": [],
   "source": []
  }
 ],
 "metadata": {
  "kernelspec": {
   "display_name": "Python 3 (ipykernel)",
   "language": "python",
   "name": "python3"
  },
  "language_info": {
   "codemirror_mode": {
    "name": "ipython",
    "version": 3
   },
   "file_extension": ".py",
   "mimetype": "text/x-python",
   "name": "python",
   "nbconvert_exporter": "python",
   "pygments_lexer": "ipython3",
   "version": "3.11.5"
  }
 },
 "nbformat": 4,
 "nbformat_minor": 5
}
