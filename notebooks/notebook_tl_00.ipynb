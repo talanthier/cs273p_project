{
 "cells": [
  {
   "cell_type": "code",
   "execution_count": 1,
   "id": "c660646f-0d35-403e-80b4-2198f42a2c57",
   "metadata": {},
   "outputs": [],
   "source": [
    "import os\n",
    "import torch\n",
    "import torch.nn as nn\n",
    "from torch import optim\n",
    "from torchvision import transforms\n",
    "from torch.utils.data import Dataset, DataLoader, random_split\n",
    "import torch.nn.functional as F\n",
    "import PIL\n",
    "import pandas as pd\n",
    "import numpy as np\n",
    "import matplotlib.pyplot as plt\n",
    "import matplotlib.image as mpimg\n",
    "from tqdm import tqdm\n",
    "\n",
    "PIL.ImageFile.LOAD_TRUNCATED_IMAGES = True\n"
   ]
  },
  {
   "cell_type": "markdown",
   "id": "bd3f81fb-0855-492d-aeb5-e811ea4aaa9c",
   "metadata": {},
   "source": [
    "# Loading Data"
   ]
  },
  {
   "cell_type": "code",
   "execution_count": 2,
   "id": "26aa8871-86fc-4278-bf31-1e16d6b7d85b",
   "metadata": {},
   "outputs": [],
   "source": [
    "class CancerDataset(Dataset):\n",
    "    def __init__(self, data_dir, transform=None):\n",
    "        self.data_dir = data_dir\n",
    "        self.transform = transform\n",
    "        self.classes = [\"Normal cases\", \"Benign cases\", \"Malignant cases\"]  # List the directories (class folders)\n",
    "        self.image_paths = []  # Store the paths of images\n",
    "        self.labels = []       # Store the labels corresponding to images\n",
    "\n",
    "        for label, class_name in enumerate(self.classes): # for each class (Normal = 0, Benign = 1, Malignant = 2)\n",
    "            class_folder = os.path.join(data_dir, class_name)\n",
    "            if os.path.isdir(class_folder):\n",
    "                for file_name in os.listdir(class_folder):\n",
    "                    if file_name.endswith(('.jpg', '.png', '.jpeg')):  # image datatypes\n",
    "                        self.image_paths.append(os.path.join(class_folder, file_name)) # append images\n",
    "                        self.labels.append(label) # append associated labels\n",
    "\n",
    "    def __len__(self):\n",
    "        return len(self.image_paths)\n",
    "\n",
    "    def __getitem__(self, idx):\n",
    "        # Load the image\n",
    "        img_path = self.image_paths[idx]\n",
    "        image = PIL.Image.open(img_path)\n",
    "\n",
    "        # Apply any transformations (if defined)\n",
    "        if self.transform:\n",
    "            image = self.transform(image)\n",
    "\n",
    "        # Return the image and the label\n",
    "        label = self.labels[idx]\n",
    "        return image, label\n",
    "\n"
   ]
  },
  {
   "cell_type": "code",
   "execution_count": 3,
   "id": "71a16928-9341-428e-a294-3fb180a0e787",
   "metadata": {},
   "outputs": [
    {
     "name": "stdout",
     "output_type": "stream",
     "text": [
      "Img Shape: torch.Size([1, 512, 512])\n",
      "Dataset Size: 1097\n",
      "Normal Count: 416, Percent: 37.92\n",
      "Benign Count: 120, Percent: 10.94\n",
      "Malignant Count: 561, Percent: 51.14\n"
     ]
    }
   ],
   "source": [
    "img_transform = transforms.Compose([\n",
    "    transforms.Resize((512, 512)), # resizing. some images are not 512x512\n",
    "    transforms.Grayscale(),\n",
    "    transforms.ToTensor()   # convert image to a tensor\n",
    "])\n",
    "\n",
    "\n",
    "cancer_dataset = CancerDataset(\"../data\", img_transform)\n",
    "print(f'Img Shape: {cancer_dataset[0][0].shape}')\n",
    "\n",
    "print(f'Dataset Size: {len(cancer_dataset)}')\n",
    "label_map = {0 : \"Normal\", 1 : \"Benign\", 2 : \"Malignant\"}\n",
    "cts = np.unique(cancer_dataset.labels, return_counts = True)\n",
    "for i in cts[0]:\n",
    "    label = label_map[i]\n",
    "    print(f'{label} Count: {cts[1][i]}, Percent: {100*cts[1][i]/len(cancer_dataset):.2f}')"
   ]
  },
  {
   "cell_type": "code",
   "execution_count": 4,
   "id": "9e978fcd-9bb7-4474-8f20-f52e6a858c66",
   "metadata": {},
   "outputs": [],
   "source": [
    "torch.manual_seed(35)  # set seed\n",
    "\n",
    "train_proportion = 0.7 # percent training set\n",
    "\n",
    "train_size = int(train_proportion * len(cancer_dataset)) \n",
    "test_size = len(cancer_dataset) - train_size \n",
    "\n",
    "train_dataset, test_dataset = random_split(cancer_dataset, [train_size, test_size]) # split dataset into train and test"
   ]
  },
  {
   "cell_type": "code",
   "execution_count": 5,
   "id": "6c6f5f92-a81a-4ce5-a4df-d4c2c2ab6a57",
   "metadata": {},
   "outputs": [
    {
     "name": "stdout",
     "output_type": "stream",
     "text": [
      "Test Set Size: 330\n",
      "Test Normal Count: 130, Percent: 39.39\n",
      "Test Benign Count: 37, Percent: 11.21\n",
      "Test Malignant Count: 163, Percent: 49.39\n"
     ]
    }
   ],
   "source": [
    "print(f'Test Set Size: {len(test_dataset.indices)}')\n",
    "cts = np.unique([cancer_dataset[i][1] for i in test_dataset.indices], return_counts = True)\n",
    "for i in cts[0]:\n",
    "    label = label_map[i]\n",
    "    print(f'Test {label} Count: {cts[1][i]}, Percent: {100*cts[1][i]/len(test_dataset.indices):.2f}')"
   ]
  },
  {
   "cell_type": "code",
   "execution_count": 6,
   "id": "78d7114e-252a-405e-878f-730f5942bc46",
   "metadata": {},
   "outputs": [],
   "source": [
    "# initialize dataloaders\n",
    "train_dataloader = DataLoader(train_dataset, batch_size=32, shuffle=True)\n",
    "test_dataloader = DataLoader(test_dataset, batch_size=32, shuffle=False)"
   ]
  },
  {
   "cell_type": "markdown",
   "id": "d267c202-ac97-4bed-b8c8-ee528e1596a7",
   "metadata": {},
   "source": [
    "# Modeling"
   ]
  },
  {
   "cell_type": "code",
   "execution_count": 7,
   "id": "11af6d33-84f7-4bc0-abd9-ff250a749068",
   "metadata": {},
   "outputs": [],
   "source": [
    "class CNN(nn.Module):\n",
    "    def __init__(self):\n",
    "        super(CNN, self).__init__()\n",
    "\n",
    "        #max pooling layer\n",
    "        self.pool = nn.MaxPool2d(kernel_size=2, stride=2, padding=0)\n",
    "\n",
    "        # convolutional layers\n",
    "        self.conv1 = nn.Conv2d(1, 8, kernel_size=3, stride=1, padding=1)        \n",
    "        self.conv2 = nn.Conv2d(8, 16, kernel_size=3, stride=1, padding=1)\n",
    "        self.conv3 = nn.Conv2d(16, 32, kernel_size=3, stride=1, padding=1)\n",
    "\n",
    "        self.linear = nn.Linear(32*64*64, 3)\n",
    "\n",
    "    def forward(self, x):\n",
    "        # 512 x 512\n",
    "        x = self.pool(F.relu(self.conv1(x))) # 256x256\n",
    "        x = self.pool(F.relu(self.conv2(x))) # 128x128\n",
    "        x = self.pool(F.relu(self.conv3(x))) # 64x64\n",
    "\n",
    "        x = torch.flatten(x, 1)\n",
    "        x = self.linear(x)\n",
    "        return x"
   ]
  },
  {
   "cell_type": "code",
   "execution_count": null,
   "id": "3e4494bf-1c84-4bd3-80c9-f99c6c6c82e2",
   "metadata": {},
   "outputs": [
    {
     "name": "stdout",
     "output_type": "stream",
     "text": [
      "cpu\n"
     ]
    }
   ],
   "source": [
    "model = CNN()\n",
    "\n",
    "device = torch.device(\"cuda\" if torch.cuda.is_available() else \"cpu\")\n",
    "print(device)\n",
    "\n",
    "num_epochs = 20\n",
    "optimizer = optim.Adam(model.parameters(), lr = 0.001)\n",
    "criterion = nn.CrossEntropyLoss()"
   ]
  },
  {
   "cell_type": "code",
   "execution_count": null,
   "id": "6a6f71e2-f7a8-4a6f-805a-a4377ee78413",
   "metadata": {},
   "outputs": [
    {
     "name": "stdout",
     "output_type": "stream",
     "text": [
      "Epoch 1\n"
     ]
    },
    {
     "name": "stderr",
     "output_type": "stream",
     "text": [
      "Epoch 1/10: 100%|██████████| 24/24 [00:20<00:00,  1.16it/s]\n"
     ]
    },
    {
     "name": "stdout",
     "output_type": "stream",
     "text": [
      "Train Loss: 1.0651\n",
      "Valid Loss: 0.6509\n",
      "Epoch 2\n"
     ]
    },
    {
     "name": "stderr",
     "output_type": "stream",
     "text": [
      "Epoch 2/10: 100%|██████████| 24/24 [00:21<00:00,  1.13it/s]\n"
     ]
    },
    {
     "name": "stdout",
     "output_type": "stream",
     "text": [
      "Train Loss: 0.5024\n",
      "Valid Loss: 0.3980\n",
      "Epoch 3\n"
     ]
    },
    {
     "name": "stderr",
     "output_type": "stream",
     "text": [
      "Epoch 3/10: 100%|██████████| 24/24 [00:21<00:00,  1.11it/s]\n"
     ]
    },
    {
     "name": "stdout",
     "output_type": "stream",
     "text": [
      "Train Loss: 0.2195\n",
      "Valid Loss: 0.2009\n",
      "Epoch 4\n"
     ]
    },
    {
     "name": "stderr",
     "output_type": "stream",
     "text": [
      "Epoch 4/10: 100%|██████████| 24/24 [00:22<00:00,  1.07it/s]\n"
     ]
    },
    {
     "name": "stdout",
     "output_type": "stream",
     "text": [
      "Train Loss: 0.0878\n",
      "Valid Loss: 0.1220\n",
      "Epoch 5\n"
     ]
    },
    {
     "name": "stderr",
     "output_type": "stream",
     "text": [
      "Epoch 5/10: 100%|██████████| 24/24 [00:22<00:00,  1.06it/s]\n"
     ]
    },
    {
     "name": "stdout",
     "output_type": "stream",
     "text": [
      "Train Loss: 0.0476\n",
      "Valid Loss: 0.0801\n",
      "Epoch 6\n"
     ]
    },
    {
     "name": "stderr",
     "output_type": "stream",
     "text": [
      "Epoch 6/10: 100%|██████████| 24/24 [00:23<00:00,  1.04it/s]\n"
     ]
    },
    {
     "name": "stdout",
     "output_type": "stream",
     "text": [
      "Train Loss: 0.0269\n",
      "Valid Loss: 0.1170\n",
      "Epoch 7\n"
     ]
    },
    {
     "name": "stderr",
     "output_type": "stream",
     "text": [
      "Epoch 7/10: 100%|██████████| 24/24 [00:24<00:00,  1.02s/it]\n"
     ]
    },
    {
     "name": "stdout",
     "output_type": "stream",
     "text": [
      "Train Loss: 0.0133\n",
      "Valid Loss: 0.0538\n",
      "Epoch 8\n"
     ]
    },
    {
     "name": "stderr",
     "output_type": "stream",
     "text": [
      "Epoch 8/10: 100%|██████████| 24/24 [00:23<00:00,  1.02it/s]\n"
     ]
    },
    {
     "name": "stdout",
     "output_type": "stream",
     "text": [
      "Train Loss: 0.0132\n",
      "Valid Loss: 0.0929\n",
      "Epoch 9\n"
     ]
    },
    {
     "name": "stderr",
     "output_type": "stream",
     "text": [
      "Epoch 9/10: 100%|██████████| 24/24 [00:24<00:00,  1.02s/it]\n"
     ]
    },
    {
     "name": "stdout",
     "output_type": "stream",
     "text": [
      "Train Loss: 0.0196\n",
      "Valid Loss: 0.0560\n",
      "Epoch 10\n"
     ]
    },
    {
     "name": "stderr",
     "output_type": "stream",
     "text": [
      "Epoch 10/10: 100%|██████████| 24/24 [00:24<00:00,  1.00s/it]\n"
     ]
    },
    {
     "name": "stdout",
     "output_type": "stream",
     "text": [
      "Train Loss: 0.0122\n",
      "Valid Loss: 0.0497\n"
     ]
    }
   ],
   "source": [
    "results = []\n",
    "for epoch in range(1, num_epochs+1):\n",
    "    print(f'Epoch {epoch}')\n",
    "    model.train()  # set model to train\n",
    "    running_loss = 0.0\n",
    "    \n",
    "    for images, labels in tqdm(train_dataloader, desc=f\"Epoch {epoch}/{num_epochs}\"):\n",
    "        images, labels = images.to(device), labels.to(device).long()\n",
    "\n",
    "        # zero out gradients\n",
    "        optimizer.zero_grad()\n",
    "\n",
    "        # Forward pass\n",
    "        outputs = model(images)\n",
    "        loss = criterion(outputs, labels)\n",
    "        \n",
    "        # Backward pass and optimization\n",
    "        loss.backward()\n",
    "        optimizer.step()\n",
    "\n",
    "        running_loss += loss.item()\n",
    "        \n",
    "    model.eval() # set model to evaluation mode\n",
    "    \n",
    "    valid_loss = 0.0\n",
    "    for images, labels in test_dataloader:\n",
    "        \n",
    "        outputs = model(images)\n",
    "        loss = criterion(outputs, labels)\n",
    "\n",
    "        valid_loss += loss.item()\n",
    "\n",
    "    avg_loss = running_loss / len(train_dataloader)\n",
    "    avg_valid_loss = valid_loss / len(test_dataloader)\n",
    "    results.append([epoch, avg_loss, avg_valid_loss])\n",
    "    if i%2 == 0:\n",
    "        print(f\"Train Loss: {avg_loss:.4f}\")\n",
    "        print(f\"Valid Loss: {avg_valid_loss:.4f}\")\n",
    "\n"
   ]
  },
  {
   "cell_type": "code",
   "execution_count": null,
   "id": "62114f71",
   "metadata": {},
   "outputs": [
    {
     "data": {
      "image/png": "[encoded data removed]",
      "text/plain": [
       "<Figure size 1000x700 with 1 Axes>"
      ]
     },
     "metadata": {},
     "output_type": "display_data"
    }
   ],
   "source": [
    "arr_results = np.array(results)\n",
    "fig = plt.figure(figsize = (10,7))\n",
    "plt.plot(arr_results[:, 0], arr_results[:, 1], label = 'Training Loss', c = 'b')\n",
    "plt.plot(arr_results[:, 0], arr_results[:, 2], label = 'Test Loss', c = 'r')\n",
    "plt.suptitle('')\n",
    "plt.xlabel('Epoch')\n",
    "plt.ylabel('Average Loss')\n",
    "plt.legend()\n",
    "plt.show()"
   ]
  },
  {
   "cell_type": "code",
   "execution_count": 13,
   "id": "2a99ae44",
   "metadata": {},
   "outputs": [
    {
     "data": {
      "text/plain": [
       "array([ 1.,  2.,  3.,  4.,  5.,  6.,  7.,  8.,  9., 10.])"
      ]
     },
     "execution_count": 13,
     "metadata": {},
     "output_type": "execute_result"
    }
   ],
   "source": [
    "arr_results[:, 0]"
   ]
  },
  {
   "cell_type": "code",
   "execution_count": 24,
   "id": "f1c0e352-9342-43ef-90cf-3f93050c814f",
   "metadata": {},
   "outputs": [],
   "source": [
    "test_labels = []\n",
    "test_pred_prob = []\n",
    "test_preds = []\n",
    "for images, labels in test_dataloader:\n",
    "    scores = model(images) # get scores from model\n",
    "    pred_prob = F.softmax(scores, dim = 1) # get predicted probabilities\n",
    "    preds = torch.argmax(pred_prob, axis = 1) # get predicted class\n",
    "\n",
    "    # append to list for entire test set\n",
    "    test_labels.extend(labels)\n",
    "    test_pred_prob.extend(pred_prob)\n",
    "    test_preds.extend(preds)"
   ]
  }
 ],
 "metadata": {
  "kernelspec": {
   "display_name": "CS273P",
   "language": "python",
   "name": "python3"
  },
  "language_info": {
   "codemirror_mode": {
    "name": "ipython",
    "version": 3
   },
   "file_extension": ".py",
   "mimetype": "text/x-python",
   "name": "python",
   "nbconvert_exporter": "python",
   "pygments_lexer": "ipython3",
   "version": "3.12.6"
  }
 },
 "nbformat": 4,
 "nbformat_minor": 5
}
