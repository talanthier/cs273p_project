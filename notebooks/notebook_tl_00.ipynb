{
 "cells": [
  {
   "cell_type": "code",
   "execution_count": 1,
   "id": "c660646f-0d35-403e-80b4-2198f42a2c57",
   "metadata": {},
   "outputs": [],
   "source": [
    "import os\n",
    "import torch\n",
    "import torch.nn as nn\n",
    "from torch import optim\n",
    "from torchvision import transforms\n",
    "from torch.utils.data import Dataset, DataLoader, random_split\n",
    "import torch.nn.functional as F\n",
    "import PIL\n",
    "import pandas as pd\n",
    "import numpy as np\n",
    "import matplotlib.pyplot as plt\n",
    "import matplotlib.image as mpimg\n",
    "from tqdm import tqdm\n",
    "\n",
    "from sklearn.metrics import ConfusionMatrixDisplay, accuracy_score, f1_score, roc_auc_score, roc_curve, precision_recall_curve, confusion_matrix, classification_report\n",
    "\n",
    "PIL.ImageFile.LOAD_TRUNCATED_IMAGES = True\n"
   ]
  },
  {
   "cell_type": "markdown",
   "id": "bd3f81fb-0855-492d-aeb5-e811ea4aaa9c",
   "metadata": {},
   "source": [
    "# Loading Data"
   ]
  },
  {
   "cell_type": "code",
   "execution_count": 2,
   "id": "26aa8871-86fc-4278-bf31-1e16d6b7d85b",
   "metadata": {},
   "outputs": [],
   "source": [
    "class CancerDataset(Dataset):\n",
    "    def __init__(self, data_dir, transform=None):\n",
    "        self.data_dir = data_dir\n",
    "        self.transform = transform\n",
    "        self.classes = [\"Normal cases\", \"Benign cases\", \"Malignant cases\"]  # List the directories (class folders)\n",
    "        self.image_paths = []  # Store the paths of images\n",
    "        self.labels = []       # Store the labels corresponding to images\n",
    "\n",
    "        for label, class_name in enumerate(self.classes): # for each class (Normal = 0, Benign = 1, Malignant = 2)\n",
    "            class_folder = os.path.join(data_dir, class_name)\n",
    "            if os.path.isdir(class_folder):\n",
    "                for file_name in os.listdir(class_folder):\n",
    "                    if file_name.endswith(('.jpg', '.png', '.jpeg')):  # image datatypes\n",
    "                        self.image_paths.append(os.path.join(class_folder, file_name)) # append images\n",
    "                        self.labels.append(label) # append associated labels\n",
    "\n",
    "    def __len__(self):\n",
    "        return len(self.image_paths)\n",
    "\n",
    "    def __getitem__(self, idx):\n",
    "        # Load the image\n",
    "        img_path = self.image_paths[idx]\n",
    "        image = PIL.Image.open(img_path)\n",
    "\n",
    "        # Apply any transformations (if defined)\n",
    "        if self.transform:\n",
    "            image = self.transform(image)\n",
    "\n",
    "        # Return the image and the label\n",
    "        label = self.labels[idx]\n",
    "        return image, label\n",
    "\n"
   ]
  },
  {
   "cell_type": "code",
   "execution_count": 3,
   "id": "71a16928-9341-428e-a294-3fb180a0e787",
   "metadata": {},
   "outputs": [
    {
     "name": "stdout",
     "output_type": "stream",
     "text": [
      "Img Shape: torch.Size([1, 512, 512])\n",
      "Dataset Size: 1097\n",
      "Normal Count: 416, Percent: 37.92\n",
      "Benign Count: 120, Percent: 10.94\n",
      "Malignant Count: 561, Percent: 51.14\n"
     ]
    }
   ],
   "source": [
    "img_transform = transforms.Compose([\n",
    "    transforms.Resize((512, 512)), # resizing. some images are not 512x512\n",
    "    transforms.Grayscale(),\n",
    "    transforms.ToTensor()   # convert image to a tensor\n",
    "])\n",
    "\n",
    "\n",
    "cancer_dataset = CancerDataset(\"../data\", img_transform)\n",
    "print(f'Img Shape: {cancer_dataset[0][0].shape}')\n",
    "\n",
    "print(f'Dataset Size: {len(cancer_dataset)}')\n",
    "label_map = {0 : \"Normal\", 1 : \"Benign\", 2 : \"Malignant\"}\n",
    "cts = np.unique(cancer_dataset.labels, return_counts = True)\n",
    "for i in cts[0]:\n",
    "    label = label_map[i]\n",
    "    print(f'{label} Count: {cts[1][i]}, Percent: {100*cts[1][i]/len(cancer_dataset):.2f}')"
   ]
  },
  {
   "cell_type": "code",
   "execution_count": 4,
   "id": "9e978fcd-9bb7-4474-8f20-f52e6a858c66",
   "metadata": {},
   "outputs": [],
   "source": [
    "torch.manual_seed(35)  # set seed\n",
    "\n",
    "train_proportion = 0.7 # percent training set\n",
    "\n",
    "train_size = int(train_proportion * len(cancer_dataset)) \n",
    "test_size = len(cancer_dataset) - train_size \n",
    "\n",
    "train_dataset, test_dataset = random_split(cancer_dataset, [train_size, test_size]) # split dataset into train and test"
   ]
  },
  {
   "cell_type": "code",
   "execution_count": 5,
   "id": "6c6f5f92-a81a-4ce5-a4df-d4c2c2ab6a57",
   "metadata": {},
   "outputs": [
    {
     "name": "stdout",
     "output_type": "stream",
     "text": [
      "Test Set Size: 330\n",
      "Test Normal Count: 130, Percent: 39.39\n",
      "Test Benign Count: 37, Percent: 11.21\n",
      "Test Malignant Count: 163, Percent: 49.39\n"
     ]
    }
   ],
   "source": [
    "print(f'Test Set Size: {len(test_dataset.indices)}')\n",
    "cts = np.unique([cancer_dataset[i][1] for i in test_dataset.indices], return_counts = True)\n",
    "for i in cts[0]:\n",
    "    label = label_map[i]\n",
    "    print(f'Test {label} Count: {cts[1][i]}, Percent: {100*cts[1][i]/len(test_dataset.indices):.2f}')"
   ]
  },
  {
   "cell_type": "code",
   "execution_count": 6,
   "id": "78d7114e-252a-405e-878f-730f5942bc46",
   "metadata": {},
   "outputs": [],
   "source": [
    "# initialize dataloaders\n",
    "train_dataloader = DataLoader(train_dataset, batch_size=32, shuffle=True)\n",
    "test_dataloader = DataLoader(test_dataset, batch_size=32, shuffle=False)"
   ]
  },
  {
   "cell_type": "markdown",
   "id": "d267c202-ac97-4bed-b8c8-ee528e1596a7",
   "metadata": {},
   "source": [
    "# Modeling"
   ]
  },
  {
   "cell_type": "code",
   "execution_count": 7,
   "id": "11af6d33-84f7-4bc0-abd9-ff250a749068",
   "metadata": {},
   "outputs": [],
   "source": [
    "class CNN(nn.Module):\n",
    "    def __init__(self):\n",
    "        super(CNN, self).__init__()\n",
    "\n",
    "        #max pooling layer\n",
    "        self.pool = nn.MaxPool2d(kernel_size=2, stride=2, padding=0)\n",
    "\n",
    "        # convolutional layers\n",
    "        self.conv1 = nn.Conv2d(1, 8, kernel_size=3, stride=1, padding=1)        \n",
    "        self.conv2 = nn.Conv2d(8, 16, kernel_size=3, stride=1, padding=1)\n",
    "        self.conv3 = nn.Conv2d(16, 32, kernel_size=3, stride=1, padding=1)\n",
    "\n",
    "        self.linear = nn.Linear(32*64*64, 3)\n",
    "\n",
    "    def forward(self, x):\n",
    "        # 512 x 512\n",
    "        x = self.pool(F.relu(self.conv1(x))) # 256x256\n",
    "        x = self.pool(F.relu(self.conv2(x))) # 128x128\n",
    "        x = self.pool(F.relu(self.conv3(x))) # 64x64\n",
    "\n",
    "        x = torch.flatten(x, 1)\n",
    "        x = self.linear(x)\n",
    "        return x"
   ]
  },
  {
   "cell_type": "code",
   "execution_count": 8,
   "id": "3e4494bf-1c84-4bd3-80c9-f99c6c6c82e2",
   "metadata": {},
   "outputs": [
    {
     "name": "stdout",
     "output_type": "stream",
     "text": [
      "cpu\n"
     ]
    }
   ],
   "source": [
    "model = CNN()\n",
    "\n",
    "device = torch.device(\"cuda\" if torch.cuda.is_available() else \"cpu\")\n",
    "print(device)\n",
    "\n",
    "num_epochs = 20\n",
    "optimizer = optim.Adam(model.parameters(), lr = 0.001)\n",
    "criterion = nn.CrossEntropyLoss()"
   ]
  },
  {
   "cell_type": "code",
   "execution_count": 9,
   "id": "6a6f71e2-f7a8-4a6f-805a-a4377ee78413",
   "metadata": {},
   "outputs": [
    {
     "name": "stderr",
     "output_type": "stream",
     "text": [
      "Epoch 1/20: 100%|██████████| 24/24 [00:20<00:00,  1.16it/s]\n"
     ]
    },
    {
     "name": "stdout",
     "output_type": "stream",
     "text": [
      "Train Loss: 0.9298\n",
      "Valid Loss: 0.7881\n"
     ]
    },
    {
     "name": "stderr",
     "output_type": "stream",
     "text": [
      "Epoch 2/20: 100%|██████████| 24/24 [00:20<00:00,  1.14it/s]\n"
     ]
    },
    {
     "name": "stdout",
     "output_type": "stream",
     "text": [
      "Train Loss: 0.5796\n",
      "Valid Loss: 0.5472\n"
     ]
    },
    {
     "name": "stderr",
     "output_type": "stream",
     "text": [
      "Epoch 3/20: 100%|██████████| 24/24 [00:21<00:00,  1.14it/s]\n"
     ]
    },
    {
     "name": "stdout",
     "output_type": "stream",
     "text": [
      "Train Loss: 0.3090\n",
      "Valid Loss: 0.2479\n"
     ]
    },
    {
     "name": "stderr",
     "output_type": "stream",
     "text": [
      "Epoch 4/20: 100%|██████████| 24/24 [00:21<00:00,  1.10it/s]\n"
     ]
    },
    {
     "name": "stdout",
     "output_type": "stream",
     "text": [
      "Train Loss: 0.1407\n",
      "Valid Loss: 0.1457\n"
     ]
    },
    {
     "name": "stderr",
     "output_type": "stream",
     "text": [
      "Epoch 5/20: 100%|██████████| 24/24 [00:22<00:00,  1.09it/s]\n"
     ]
    },
    {
     "name": "stdout",
     "output_type": "stream",
     "text": [
      "Train Loss: 0.0754\n",
      "Valid Loss: 0.0820\n"
     ]
    },
    {
     "name": "stderr",
     "output_type": "stream",
     "text": [
      "Epoch 6/20: 100%|██████████| 24/24 [00:22<00:00,  1.08it/s]\n"
     ]
    },
    {
     "name": "stdout",
     "output_type": "stream",
     "text": [
      "Train Loss: 0.0652\n",
      "Valid Loss: 0.1368\n"
     ]
    },
    {
     "name": "stderr",
     "output_type": "stream",
     "text": [
      "Epoch 7/20: 100%|██████████| 24/24 [00:22<00:00,  1.06it/s]\n"
     ]
    },
    {
     "name": "stdout",
     "output_type": "stream",
     "text": [
      "Train Loss: 0.0443\n",
      "Valid Loss: 0.0816\n"
     ]
    },
    {
     "name": "stderr",
     "output_type": "stream",
     "text": [
      "Epoch 8/20: 100%|██████████| 24/24 [00:22<00:00,  1.06it/s]\n"
     ]
    },
    {
     "name": "stdout",
     "output_type": "stream",
     "text": [
      "Train Loss: 0.0447\n",
      "Valid Loss: 0.0574\n"
     ]
    },
    {
     "name": "stderr",
     "output_type": "stream",
     "text": [
      "Epoch 9/20: 100%|██████████| 24/24 [00:22<00:00,  1.08it/s]\n"
     ]
    },
    {
     "name": "stdout",
     "output_type": "stream",
     "text": [
      "Train Loss: 0.0215\n",
      "Valid Loss: 0.0696\n"
     ]
    },
    {
     "name": "stderr",
     "output_type": "stream",
     "text": [
      "Epoch 10/20: 100%|██████████| 24/24 [00:22<00:00,  1.07it/s]\n"
     ]
    },
    {
     "name": "stdout",
     "output_type": "stream",
     "text": [
      "Train Loss: 0.0174\n",
      "Valid Loss: 0.0512\n"
     ]
    },
    {
     "name": "stderr",
     "output_type": "stream",
     "text": [
      "Epoch 11/20: 100%|██████████| 24/24 [00:22<00:00,  1.06it/s]\n"
     ]
    },
    {
     "name": "stdout",
     "output_type": "stream",
     "text": [
      "Train Loss: 0.0373\n",
      "Valid Loss: 0.1286\n"
     ]
    },
    {
     "name": "stderr",
     "output_type": "stream",
     "text": [
      "Epoch 12/20: 100%|██████████| 24/24 [00:23<00:00,  1.02it/s]\n"
     ]
    },
    {
     "name": "stdout",
     "output_type": "stream",
     "text": [
      "Train Loss: 0.0118\n",
      "Valid Loss: 0.0339\n"
     ]
    },
    {
     "name": "stderr",
     "output_type": "stream",
     "text": [
      "Epoch 13/20: 100%|██████████| 24/24 [00:22<00:00,  1.05it/s]\n"
     ]
    },
    {
     "name": "stdout",
     "output_type": "stream",
     "text": [
      "Train Loss: 0.0120\n",
      "Valid Loss: 0.0626\n"
     ]
    },
    {
     "name": "stderr",
     "output_type": "stream",
     "text": [
      "Epoch 14/20: 100%|██████████| 24/24 [00:23<00:00,  1.04it/s]\n"
     ]
    },
    {
     "name": "stdout",
     "output_type": "stream",
     "text": [
      "Train Loss: 0.0179\n",
      "Valid Loss: 0.0385\n"
     ]
    },
    {
     "name": "stderr",
     "output_type": "stream",
     "text": [
      "Epoch 15/20: 100%|██████████| 24/24 [00:23<00:00,  1.02it/s]\n"
     ]
    },
    {
     "name": "stdout",
     "output_type": "stream",
     "text": [
      "Train Loss: 0.0297\n",
      "Valid Loss: 0.1535\n"
     ]
    },
    {
     "name": "stderr",
     "output_type": "stream",
     "text": [
      "Epoch 16/20: 100%|██████████| 24/24 [00:23<00:00,  1.03it/s]\n"
     ]
    },
    {
     "name": "stdout",
     "output_type": "stream",
     "text": [
      "Train Loss: 0.0181\n",
      "Valid Loss: 0.0507\n"
     ]
    },
    {
     "name": "stderr",
     "output_type": "stream",
     "text": [
      "Epoch 17/20: 100%|██████████| 24/24 [00:24<00:00,  1.02s/it]\n"
     ]
    },
    {
     "name": "stdout",
     "output_type": "stream",
     "text": [
      "Train Loss: 0.0065\n",
      "Valid Loss: 0.0655\n"
     ]
    },
    {
     "name": "stderr",
     "output_type": "stream",
     "text": [
      "Epoch 18/20: 100%|██████████| 24/24 [00:23<00:00,  1.01it/s]\n"
     ]
    },
    {
     "name": "stdout",
     "output_type": "stream",
     "text": [
      "Train Loss: 0.0060\n",
      "Valid Loss: 0.0358\n"
     ]
    },
    {
     "name": "stderr",
     "output_type": "stream",
     "text": [
      "Epoch 19/20: 100%|██████████| 24/24 [00:23<00:00,  1.03it/s]\n"
     ]
    },
    {
     "name": "stdout",
     "output_type": "stream",
     "text": [
      "Train Loss: 0.0056\n",
      "Valid Loss: 0.0352\n"
     ]
    },
    {
     "name": "stderr",
     "output_type": "stream",
     "text": [
      "Epoch 20/20: 100%|██████████| 24/24 [00:26<00:00,  1.10s/it]\n"
     ]
    },
    {
     "name": "stdout",
     "output_type": "stream",
     "text": [
      "Train Loss: 0.0079\n",
      "Valid Loss: 0.0468\n"
     ]
    }
   ],
   "source": [
    "results = []\n",
    "for epoch in range(1, num_epochs+1):\n",
    "    model.train()  # set model to train\n",
    "    running_loss = 0.0\n",
    "    \n",
    "    for images, labels in tqdm(train_dataloader, desc=f\"Epoch {epoch}/{num_epochs}\"):\n",
    "        images, labels = images.to(device), labels.to(device).long()\n",
    "\n",
    "        # zero out gradients\n",
    "        optimizer.zero_grad()\n",
    "\n",
    "        # Forward pass\n",
    "        outputs = model(images)\n",
    "        loss = criterion(outputs, labels)\n",
    "        \n",
    "        # Backward pass and optimization\n",
    "        loss.backward()\n",
    "        optimizer.step()\n",
    "\n",
    "        running_loss += loss.item()\n",
    "        \n",
    "    model.eval() # set model to evaluation mode\n",
    "    \n",
    "    valid_loss = 0.0\n",
    "    for images, labels in test_dataloader:\n",
    "        \n",
    "        outputs = model(images)\n",
    "        loss = criterion(outputs, labels)\n",
    "\n",
    "        valid_loss += loss.item()\n",
    "\n",
    "    avg_loss = running_loss / len(train_dataloader)\n",
    "    avg_valid_loss = valid_loss / len(test_dataloader)\n",
    "    results.append([epoch, avg_loss, avg_valid_loss])\n",
    "    if i%2 == 0:\n",
    "        print(f\"Train Loss: {avg_loss:.4f}\")\n",
    "        print(f\"Valid Loss: {avg_valid_loss:.4f}\")\n",
    "\n"
   ]
  },
  {
   "cell_type": "code",
   "execution_count": 10,
   "id": "62114f71",
   "metadata": {},
   "outputs": [
    {
     "data": {
      "image/png": "[encoded data removed]",
      "text/plain": [
       "<Figure size 1000x700 with 1 Axes>"
      ]
     },
     "metadata": {},
     "output_type": "display_data"
    }
   ],
   "source": [
    "arr_results = np.array(results)\n",
    "fig = plt.figure(figsize = (10,7))\n",
    "plt.plot(arr_results[:, 0], arr_results[:, 1], label = 'Training Loss', c = 'b')\n",
    "plt.plot(arr_results[:, 0], arr_results[:, 2], label = 'Test Loss', c = 'r')\n",
    "plt.suptitle('Loss Curve - CNN 1')\n",
    "plt.xlabel('Epoch')\n",
    "plt.ylabel('Average Loss')\n",
    "plt.legend()\n",
    "plt.show()"
   ]
  },
  {
   "cell_type": "code",
   "execution_count": 11,
   "id": "f1c0e352-9342-43ef-90cf-3f93050c814f",
   "metadata": {},
   "outputs": [],
   "source": [
    "y_test = []\n",
    "y_pred_prob = []\n",
    "y_pred = []\n",
    "for images, labels in test_dataloader:\n",
    "    scores = model(images) # get scores from model\n",
    "    pred_prob = F.softmax(scores, dim = 1) # get predicted probabilities\n",
    "    preds = torch.argmax(pred_prob, axis = 1) # get predicted class\n",
    "\n",
    "    # append to list for entire test set\n",
    "    y_test.extend(labels.detach().numpy())\n",
    "    y_pred_prob.extend(pred_prob.detach().numpy())\n",
    "    y_pred.extend(preds.detach().numpy())"
   ]
  },
  {
   "cell_type": "code",
   "execution_count": null,
   "id": "71d0572b",
   "metadata": {},
   "outputs": [
    {
     "name": "stdout",
     "output_type": "stream",
     "text": [
      "Accuracy: 0.9848484848484849\n",
      "Overall ROC AUC: 0.9994822906392873\n",
      "              precision    recall  f1-score   support\n",
      "\n",
      "           0       0.96      1.00      0.98       130\n",
      "           1       1.00      0.86      0.93        37\n",
      "           2       1.00      1.00      1.00       163\n",
      "\n",
      "    accuracy                           0.98       330\n",
      "   macro avg       0.99      0.95      0.97       330\n",
      "weighted avg       0.99      0.98      0.98       330\n",
      "\n"
     ]
    },
    {
     "data": {
      "image/png": "[encoded data removed]",
      "text/plain": [
       "<Figure size 640x480 with 2 Axes>"
      ]
     },
     "metadata": {},
     "output_type": "display_data"
    }
   ],
   "source": [
    "acc = accuracy_score(y_test, y_pred)\n",
    "roc_auc = roc_auc_score(y_test, y_pred_prob, multi_class = 'ovr')\n",
    "\n",
    "print(f'Accuracy: {acc}')\n",
    "print(f'Overall ROC AUC: {roc_auc}')\n",
    "\n",
    "print(classification_report(y_test, y_pred))    \n",
    "\n",
    "cm = confusion_matrix(y_test, y_pred)\n",
    "disp = ConfusionMatrixDisplay(cm)\n",
    "disp.plot()\n",
    "plt.show()"
   ]
  },
  {
   "cell_type": "markdown",
   "id": "d9476adc",
   "metadata": {},
   "source": [
    "## CNN 2"
   ]
  },
  {
   "cell_type": "code",
   "execution_count": 13,
   "id": "4a84bbcf",
   "metadata": {},
   "outputs": [],
   "source": [
    "class CNN2(nn.Module):\n",
    "    def __init__(self):\n",
    "        super(CNN2, self).__init__()\n",
    "\n",
    "        #max pooling layer\n",
    "        self.pool = nn.MaxPool2d(kernel_size=2, stride=2, padding=0)\n",
    "\n",
    "        # convolutional layers\n",
    "        self.conv1 = nn.Conv2d(1, 8, kernel_size=3, stride=1, padding=1)        \n",
    "        self.conv2 = nn.Conv2d(8, 16, kernel_size=3, stride=1, padding=1)\n",
    "        self.conv3 = nn.Conv2d(16, 32, kernel_size=3, stride=1, padding=1)\n",
    "\n",
    "        self.linear1 = nn.Linear(32*64*64, 128)\n",
    "        self.linear2 = nn.Linear(128, 3)\n",
    "\n",
    "    def forward(self, x):\n",
    "        # 512 x 512\n",
    "        x = self.pool(F.relu(self.conv1(x))) # 256x256\n",
    "        x = self.pool(F.relu(self.conv2(x))) # 128x128\n",
    "        x = self.pool(F.relu(self.conv3(x))) # 64x64\n",
    "\n",
    "        x = torch.flatten(x, 1)\n",
    "        x = self.linear1(x)\n",
    "        x = self.linear2(x)\n",
    "        return x"
   ]
  },
  {
   "cell_type": "code",
   "execution_count": 14,
   "id": "12020fca",
   "metadata": {},
   "outputs": [
    {
     "name": "stdout",
     "output_type": "stream",
     "text": [
      "cpu\n"
     ]
    }
   ],
   "source": [
    "model2 = CNN2() # 2 dense layers\n",
    "\n",
    "device = torch.device(\"cuda\" if torch.cuda.is_available() else \"cpu\")\n",
    "print(device)\n",
    "\n",
    "num_epochs = 20\n",
    "optimizer = optim.Adam(model2.parameters(), lr = 0.001)\n",
    "criterion = nn.CrossEntropyLoss()"
   ]
  },
  {
   "cell_type": "code",
   "execution_count": 15,
   "id": "242dc6f2",
   "metadata": {},
   "outputs": [
    {
     "name": "stderr",
     "output_type": "stream",
     "text": [
      "Epoch 1/20: 100%|██████████| 24/24 [00:24<00:00,  1.03s/it]\n",
      "Epoch 2/20: 100%|██████████| 24/24 [00:25<00:00,  1.08s/it]\n",
      "Epoch 3/20: 100%|██████████| 24/24 [00:25<00:00,  1.06s/it]\n",
      "Epoch 4/20: 100%|██████████| 24/24 [00:26<00:00,  1.12s/it]\n",
      "Epoch 5/20: 100%|██████████| 24/24 [00:25<00:00,  1.07s/it]\n",
      "Epoch 6/20: 100%|██████████| 24/24 [00:27<00:00,  1.13s/it]\n",
      "Epoch 7/20: 100%|██████████| 24/24 [00:26<00:00,  1.12s/it]\n",
      "Epoch 8/20: 100%|██████████| 24/24 [00:26<00:00,  1.12s/it]\n",
      "Epoch 9/20: 100%|██████████| 24/24 [00:26<00:00,  1.10s/it]\n",
      "Epoch 10/20: 100%|██████████| 24/24 [00:27<00:00,  1.13s/it]\n",
      "Epoch 11/20: 100%|██████████| 24/24 [00:25<00:00,  1.07s/it]\n",
      "Epoch 12/20: 100%|██████████| 24/24 [00:28<00:00,  1.17s/it]\n",
      "Epoch 13/20: 100%|██████████| 24/24 [00:26<00:00,  1.11s/it]\n",
      "Epoch 14/20: 100%|██████████| 24/24 [00:27<00:00,  1.13s/it]\n",
      "Epoch 15/20: 100%|██████████| 24/24 [00:26<00:00,  1.11s/it]\n",
      "Epoch 16/20: 100%|██████████| 24/24 [00:26<00:00,  1.11s/it]\n",
      "Epoch 17/20: 100%|██████████| 24/24 [00:25<00:00,  1.07s/it]\n",
      "Epoch 18/20: 100%|██████████| 24/24 [00:25<00:00,  1.08s/it]\n",
      "Epoch 19/20: 100%|██████████| 24/24 [00:27<00:00,  1.13s/it]\n",
      "Epoch 20/20: 100%|██████████| 24/24 [00:27<00:00,  1.15s/it]\n"
     ]
    }
   ],
   "source": [
    "results = []\n",
    "for epoch in range(1, num_epochs+1):\n",
    "    model2.train()  # set model to train\n",
    "    running_loss = 0.0\n",
    "    \n",
    "    for images, labels in tqdm(train_dataloader, desc=f\"Epoch {epoch}/{num_epochs}\"):\n",
    "        images, labels = images.to(device), labels.to(device).long()\n",
    "\n",
    "        # zero out gradients\n",
    "        optimizer.zero_grad()\n",
    "\n",
    "        # Forward pass\n",
    "        outputs = model2(images)\n",
    "        loss = criterion(outputs, labels)\n",
    "        \n",
    "        # Backward pass and optimization\n",
    "        loss.backward()\n",
    "        optimizer.step()\n",
    "\n",
    "        running_loss += loss.item()\n",
    "        \n",
    "    model2.eval() # set model to evaluation mode\n",
    "    \n",
    "    valid_loss = 0.0\n",
    "    for images, labels in test_dataloader:\n",
    "        \n",
    "        outputs = model2(images)\n",
    "        loss = criterion(outputs, labels)\n",
    "\n",
    "        valid_loss += loss.item()\n",
    "\n",
    "    avg_loss = running_loss / len(train_dataloader)\n",
    "    avg_valid_loss = valid_loss / len(test_dataloader)\n",
    "    results.append([epoch, avg_loss, avg_valid_loss])\n",
    "\n"
   ]
  },
  {
   "cell_type": "code",
   "execution_count": 16,
   "id": "aa334c68",
   "metadata": {},
   "outputs": [
    {
     "data": {
      "image/png": "[encoded data removed]",
      "text/plain": [
       "<Figure size 1000x700 with 1 Axes>"
      ]
     },
     "metadata": {},
     "output_type": "display_data"
    }
   ],
   "source": [
    "arr_results = np.array(results)\n",
    "fig = plt.figure(figsize = (10,7))\n",
    "plt.plot(arr_results[:, 0], arr_results[:, 1], label = 'Training Loss', c = 'b')\n",
    "plt.plot(arr_results[:, 0], arr_results[:, 2], label = 'Test Loss', c = 'r')\n",
    "plt.suptitle('Loss Curve - CNN 2')\n",
    "plt.xlabel('Epoch')\n",
    "plt.ylabel('Average Loss')\n",
    "plt.legend()\n",
    "plt.show()"
   ]
  },
  {
   "cell_type": "code",
   "execution_count": 17,
   "id": "37da5ecf",
   "metadata": {},
   "outputs": [],
   "source": [
    "y_test = []\n",
    "y_pred_prob = []\n",
    "y_pred = []\n",
    "for images, labels in test_dataloader:\n",
    "    scores = model2(images) # get scores from model\n",
    "    pred_prob = F.softmax(scores, dim = 1) # get predicted probabilities\n",
    "    preds = torch.argmax(pred_prob, axis = 1) # get predicted class\n",
    "\n",
    "    # append to list for entire test set\n",
    "    y_test.extend(labels.detach().numpy())\n",
    "    y_pred_prob.extend(pred_prob.detach().numpy())\n",
    "    y_pred.extend(preds.detach().numpy())"
   ]
  },
  {
   "cell_type": "code",
   "execution_count": 18,
   "id": "a1d316e8",
   "metadata": {},
   "outputs": [
    {
     "name": "stdout",
     "output_type": "stream",
     "text": [
      "Accuracy: 0.9818181818181818\n",
      "Overall ROC AUC: 0.9980505550792095\n",
      "              precision    recall  f1-score   support\n",
      "\n",
      "           0       0.97      0.99      0.98       130\n",
      "           1       1.00      0.86      0.93        37\n",
      "           2       0.99      1.00      0.99       163\n",
      "\n",
      "    accuracy                           0.98       330\n",
      "   macro avg       0.99      0.95      0.97       330\n",
      "weighted avg       0.98      0.98      0.98       330\n",
      "\n"
     ]
    },
    {
     "data": {
      "image/png": "[encoded data removed]",
      "text/plain": [
       "<Figure size 640x480 with 2 Axes>"
      ]
     },
     "metadata": {},
     "output_type": "display_data"
    }
   ],
   "source": [
    "acc = accuracy_score(y_test, y_pred)\n",
    "roc_auc = roc_auc_score(y_test, y_pred_prob, multi_class = 'ovr')\n",
    "\n",
    "print(f'Accuracy: {acc}')\n",
    "print(f'Overall ROC AUC: {roc_auc}')\n",
    "\n",
    "print(classification_report(y_test, y_pred))\n",
    "\n",
    "\n",
    "cm = confusion_matrix(y_test, y_pred)\n",
    "disp = ConfusionMatrixDisplay(cm)\n",
    "disp.plot()\n",
    "plt.show()"
   ]
  },
  {
   "cell_type": "markdown",
   "id": "5634984d",
   "metadata": {},
   "source": [
    "## CNN 3"
   ]
  },
  {
   "cell_type": "code",
   "execution_count": 19,
   "id": "4150afd6",
   "metadata": {},
   "outputs": [],
   "source": [
    "class CNN3(nn.Module):\n",
    "    def __init__(self):\n",
    "        super(CNN3, self).__init__()\n",
    "\n",
    "        #max pooling layer\n",
    "        self.pool = nn.MaxPool2d(kernel_size=2, stride=2, padding=0)\n",
    "\n",
    "        # convolutional layers\n",
    "        self.conv1 = nn.Conv2d(1, 8, kernel_size=3, stride=1, padding=1)        \n",
    "        self.conv2 = nn.Conv2d(8, 16, kernel_size=3, stride=1, padding=1)\n",
    "        self.conv3 = nn.Conv2d(16, 32, kernel_size=3, stride=1, padding=1)\n",
    "        self.conv4 = nn.Conv2d(32, 64, kernel_size=3, stride=1, padding=1)\n",
    "\n",
    "\n",
    "        self.linear = nn.Linear(64*32*32, 3)\n",
    "\n",
    "    def forward(self, x):\n",
    "        # 512 x 512\n",
    "        x = self.pool(F.relu(self.conv1(x))) # 256x256\n",
    "        x = self.pool(F.relu(self.conv2(x))) # 128x128\n",
    "        x = self.pool(F.relu(self.conv3(x))) # 64x64\n",
    "        x = self.pool(F.relu(self.conv4(x))) # 32x32\n",
    "\n",
    "\n",
    "        x = torch.flatten(x, 1)\n",
    "        x = self.linear(x)\n",
    "        return x"
   ]
  },
  {
   "cell_type": "code",
   "execution_count": 20,
   "id": "5cb8a2d0",
   "metadata": {},
   "outputs": [
    {
     "name": "stdout",
     "output_type": "stream",
     "text": [
      "cpu\n"
     ]
    }
   ],
   "source": [
    "model3 = CNN3() # 2 dense layers\n",
    "\n",
    "device = torch.device(\"cuda\" if torch.cuda.is_available() else \"cpu\")\n",
    "print(device)\n",
    "\n",
    "num_epochs = 20\n",
    "optimizer = optim.Adam(model3.parameters(), lr = 0.001)\n",
    "criterion = nn.CrossEntropyLoss()"
   ]
  },
  {
   "cell_type": "code",
   "execution_count": 21,
   "id": "8477cc81",
   "metadata": {},
   "outputs": [
    {
     "name": "stderr",
     "output_type": "stream",
     "text": [
      "Epoch 1/20: 100%|██████████| 24/24 [00:29<00:00,  1.22s/it]\n",
      "Epoch 2/20: 100%|██████████| 24/24 [00:27<00:00,  1.16s/it]\n",
      "Epoch 3/20: 100%|██████████| 24/24 [00:29<00:00,  1.23s/it]\n",
      "Epoch 4/20: 100%|██████████| 24/24 [00:29<00:00,  1.22s/it]\n",
      "Epoch 5/20: 100%|██████████| 24/24 [00:29<00:00,  1.23s/it]\n",
      "Epoch 6/20: 100%|██████████| 24/24 [00:28<00:00,  1.21s/it]\n",
      "Epoch 7/20: 100%|██████████| 24/24 [00:29<00:00,  1.23s/it]\n",
      "Epoch 8/20: 100%|██████████| 24/24 [00:29<00:00,  1.24s/it]\n",
      "Epoch 9/20: 100%|██████████| 24/24 [00:28<00:00,  1.20s/it]\n",
      "Epoch 10/20: 100%|██████████| 24/24 [00:28<00:00,  1.18s/it]\n",
      "Epoch 11/20: 100%|██████████| 24/24 [00:28<00:00,  1.17s/it]\n",
      "Epoch 12/20: 100%|██████████| 24/24 [00:28<00:00,  1.17s/it]\n",
      "Epoch 13/20: 100%|██████████| 24/24 [00:28<00:00,  1.20s/it]\n",
      "Epoch 14/20: 100%|██████████| 24/24 [00:29<00:00,  1.22s/it]\n",
      "Epoch 15/20: 100%|██████████| 24/24 [00:29<00:00,  1.23s/it]\n",
      "Epoch 16/20: 100%|██████████| 24/24 [00:29<00:00,  1.21s/it]\n",
      "Epoch 17/20: 100%|██████████| 24/24 [00:30<00:00,  1.28s/it]\n",
      "Epoch 18/20: 100%|██████████| 24/24 [00:30<00:00,  1.27s/it]\n",
      "Epoch 19/20: 100%|██████████| 24/24 [00:31<00:00,  1.30s/it]\n",
      "Epoch 20/20: 100%|██████████| 24/24 [00:28<00:00,  1.20s/it]\n"
     ]
    }
   ],
   "source": [
    "results = []\n",
    "for epoch in range(1, num_epochs+1):\n",
    "    model3.train()  # set model to train\n",
    "    running_loss = 0.0\n",
    "    \n",
    "    for images, labels in tqdm(train_dataloader, desc=f\"Epoch {epoch}/{num_epochs}\"):\n",
    "        images, labels = images.to(device), labels.to(device).long()\n",
    "\n",
    "        # zero out gradients\n",
    "        optimizer.zero_grad()\n",
    "\n",
    "        # Forward pass\n",
    "        outputs = model3(images)\n",
    "        loss = criterion(outputs, labels)\n",
    "        \n",
    "        # Backward pass and optimization\n",
    "        loss.backward()\n",
    "        optimizer.step()\n",
    "\n",
    "        running_loss += loss.item()\n",
    "        \n",
    "    model3.eval() # set model to evaluation mode\n",
    "    \n",
    "    valid_loss = 0.0\n",
    "    for images, labels in test_dataloader:\n",
    "        \n",
    "        outputs = model3(images)\n",
    "        loss = criterion(outputs, labels)\n",
    "\n",
    "        valid_loss += loss.item()\n",
    "\n",
    "    avg_loss = running_loss / len(train_dataloader)\n",
    "    avg_valid_loss = valid_loss / len(test_dataloader)\n",
    "    results.append([epoch, avg_loss, avg_valid_loss])\n",
    "\n"
   ]
  },
  {
   "cell_type": "code",
   "execution_count": 22,
   "id": "3d94bb95",
   "metadata": {},
   "outputs": [
    {
     "data": {
      "image/png": "[encoded data removed]",
      "text/plain": [
       "<Figure size 1000x700 with 1 Axes>"
      ]
     },
     "metadata": {},
     "output_type": "display_data"
    }
   ],
   "source": [
    "arr_results = np.array(results)\n",
    "fig = plt.figure(figsize = (10,7))      \n",
    "plt.plot(arr_results[:, 0], arr_results[:, 1], label = 'Training Loss', c = 'b')\n",
    "plt.plot(arr_results[:, 0], arr_results[:, 2], label = 'Test Loss', c = 'r')\n",
    "plt.suptitle('Loss Curve - CNN 3')\n",
    "plt.xlabel('Epoch')\n",
    "plt.ylabel('Average Loss')\n",
    "plt.legend()\n",
    "plt.show()"
   ]
  },
  {
   "cell_type": "code",
   "execution_count": 23,
   "id": "f5d348e1",
   "metadata": {},
   "outputs": [],
   "source": [
    "y_test = []\n",
    "y_pred_prob = []\n",
    "y_pred = []\n",
    "for images, labels in test_dataloader:\n",
    "    scores = model3(images) # get scores from model\n",
    "    pred_prob = F.softmax(scores, dim = 1) # get predicted probabilities\n",
    "    preds = torch.argmax(pred_prob, axis = 1) # get predicted class\n",
    "\n",
    "    # append to list for entire test set\n",
    "    y_test.extend(labels.detach().numpy())\n",
    "    y_pred_prob.extend(pred_prob.detach().numpy())\n",
    "    y_pred.extend(preds.detach().numpy())"
   ]
  },
  {
   "cell_type": "code",
   "execution_count": 24,
   "id": "339184a4",
   "metadata": {},
   "outputs": [
    {
     "name": "stdout",
     "output_type": "stream",
     "text": [
      "Accuracy: 0.9757575757575757\n",
      "Overall ROC AUC: 0.9984852246575796\n",
      "              precision    recall  f1-score   support\n",
      "\n",
      "           0       0.97      0.97      0.97       130\n",
      "           1       0.94      0.89      0.92        37\n",
      "           2       0.99      1.00      0.99       163\n",
      "\n",
      "    accuracy                           0.98       330\n",
      "   macro avg       0.97      0.95      0.96       330\n",
      "weighted avg       0.98      0.98      0.98       330\n",
      "\n"
     ]
    },
    {
     "data": {
      "image/png": "[encoded data removed]",
      "text/plain": [
       "<Figure size 640x480 with 2 Axes>"
      ]
     },
     "metadata": {},
     "output_type": "display_data"
    }
   ],
   "source": [
    "acc = accuracy_score(y_test, y_pred)\n",
    "roc_auc = roc_auc_score(y_test, y_pred_prob, multi_class = 'ovr')\n",
    "\n",
    "print(f'Accuracy: {acc}')\n",
    "print(f'Overall ROC AUC: {roc_auc}')\n",
    "\n",
    "print(classification_report(y_test, y_pred))\n",
    "\n",
    "\n",
    "cm = confusion_matrix(y_test, y_pred)\n",
    "disp = ConfusionMatrixDisplay(cm)\n",
    "disp.plot()\n",
    "plt.show()"
   ]
  },
  {
   "cell_type": "markdown",
   "id": "41fea72f",
   "metadata": {},
   "source": [
    "### Base CNN"
   ]
  },
  {
   "cell_type": "code",
   "execution_count": 15,
   "id": "392efdfa",
   "metadata": {},
   "outputs": [],
   "source": [
    "class Base_CNN(nn.Module):\n",
    "    def __init__(self):\n",
    "        super(Base_CNN, self).__init__()\n",
    "\n",
    "        #max pooling layer\n",
    "        self.pool = nn.MaxPool2d(kernel_size=2, stride=2, padding=0)\n",
    "\n",
    "        # convolutional layers\n",
    "        self.conv1 = nn.Conv2d(1, 8, kernel_size=3, stride=1, padding=1)        \n",
    "        self.conv2 = nn.Conv2d(8, 16, kernel_size=3, stride=1, padding=1)\n",
    "        self.linear = nn.Linear(16*128*128, 3)\n",
    "\n",
    "    def forward(self, x):\n",
    "        # 512 x 512\n",
    "        x = self.pool(F.relu(self.conv1(x))) # 256x256\n",
    "        x = self.pool(F.relu(self.conv2(x))) # 128x128\n",
    "\n",
    "\n",
    "        x = torch.flatten(x, 1)\n",
    "        x = self.linear(x)\n",
    "        return x"
   ]
  },
  {
   "cell_type": "code",
   "execution_count": 16,
   "id": "aabe69c1",
   "metadata": {},
   "outputs": [
    {
     "name": "stdout",
     "output_type": "stream",
     "text": [
      "cpu\n"
     ]
    }
   ],
   "source": [
    "model_base = Base_CNN() # 2 dense layers\n",
    "\n",
    "device = torch.device(\"cuda\" if torch.cuda.is_available() else \"cpu\")\n",
    "print(device)\n",
    "\n",
    "num_epochs = 20\n",
    "optimizer = optim.Adam(model_base.parameters(), lr = 0.001)\n",
    "criterion = nn.CrossEntropyLoss()"
   ]
  },
  {
   "cell_type": "code",
   "execution_count": 17,
   "id": "5eeaa59f",
   "metadata": {},
   "outputs": [
    {
     "name": "stderr",
     "output_type": "stream",
     "text": [
      "Epoch 1/20: 100%|██████████| 24/24 [00:17<00:00,  1.40it/s]\n",
      "Epoch 2/20: 100%|██████████| 24/24 [00:17<00:00,  1.41it/s]\n",
      "Epoch 3/20: 100%|██████████| 24/24 [00:17<00:00,  1.40it/s]\n",
      "Epoch 4/20: 100%|██████████| 24/24 [00:17<00:00,  1.35it/s]\n",
      "Epoch 5/20: 100%|██████████| 24/24 [00:17<00:00,  1.34it/s]\n",
      "Epoch 6/20: 100%|██████████| 24/24 [00:18<00:00,  1.32it/s]\n",
      "Epoch 7/20: 100%|██████████| 24/24 [00:18<00:00,  1.33it/s]\n",
      "Epoch 8/20: 100%|██████████| 24/24 [00:18<00:00,  1.31it/s]\n",
      "Epoch 9/20: 100%|██████████| 24/24 [00:18<00:00,  1.32it/s]\n",
      "Epoch 10/20: 100%|██████████| 24/24 [00:18<00:00,  1.27it/s]\n",
      "Epoch 11/20: 100%|██████████| 24/24 [00:18<00:00,  1.30it/s]\n",
      "Epoch 12/20: 100%|██████████| 24/24 [00:18<00:00,  1.28it/s]\n",
      "Epoch 13/20: 100%|██████████| 24/24 [00:18<00:00,  1.29it/s]\n",
      "Epoch 14/20: 100%|██████████| 24/24 [00:18<00:00,  1.27it/s]\n",
      "Epoch 15/20: 100%|██████████| 24/24 [00:18<00:00,  1.28it/s]\n",
      "Epoch 16/20: 100%|██████████| 24/24 [00:18<00:00,  1.27it/s]\n",
      "Epoch 17/20: 100%|██████████| 24/24 [00:18<00:00,  1.28it/s]\n",
      "Epoch 18/20: 100%|██████████| 24/24 [00:19<00:00,  1.26it/s]\n",
      "Epoch 19/20: 100%|██████████| 24/24 [00:18<00:00,  1.28it/s]\n",
      "Epoch 20/20: 100%|██████████| 24/24 [00:19<00:00,  1.26it/s]\n"
     ]
    }
   ],
   "source": [
    "results = []\n",
    "for epoch in range(1, num_epochs+1):\n",
    "    model_base.train()  # set model to train\n",
    "    running_loss = 0.0\n",
    "    \n",
    "    for images, labels in tqdm(train_dataloader, desc=f\"Epoch {epoch}/{num_epochs}\"):\n",
    "        images, labels = images.to(device), labels.to(device).long()\n",
    "\n",
    "        # zero out gradients\n",
    "        optimizer.zero_grad()\n",
    "\n",
    "        # Forward pass\n",
    "        outputs = model_base(images)\n",
    "        loss = criterion(outputs, labels)\n",
    "        \n",
    "        # Backward pass and optimization\n",
    "        loss.backward()\n",
    "        optimizer.step()\n",
    "\n",
    "        running_loss += loss.item()\n",
    "        \n",
    "    model_base.eval() # set model to evaluation mode\n",
    "    \n",
    "    valid_loss = 0.0\n",
    "    for images, labels in test_dataloader:\n",
    "        \n",
    "        outputs = model_base(images)\n",
    "        loss = criterion(outputs, labels)\n",
    "\n",
    "        valid_loss += loss.item()\n",
    "\n",
    "    avg_loss = running_loss / len(train_dataloader)\n",
    "    avg_valid_loss = valid_loss / len(test_dataloader)\n",
    "    results.append([epoch, avg_loss, avg_valid_loss])\n",
    "\n"
   ]
  },
  {
   "cell_type": "code",
   "execution_count": 18,
   "id": "1b917db1",
   "metadata": {},
   "outputs": [],
   "source": [
    "y_test = []\n",
    "y_pred_prob = []\n",
    "y_pred = []\n",
    "for images, labels in test_dataloader:\n",
    "    scores = model_base(images) # get scores from model\n",
    "    pred_prob = F.softmax(scores, dim = 1) # get predicted probabilities\n",
    "    preds = torch.argmax(pred_prob, axis = 1) # get predicted class\n",
    "\n",
    "    # append to list for entire test set\n",
    "    y_test.extend(labels.detach().numpy())\n",
    "    y_pred_prob.extend(pred_prob.detach().numpy())\n",
    "    y_pred.extend(preds.detach().numpy())"
   ]
  },
  {
   "cell_type": "code",
   "execution_count": 19,
   "id": "601e10e1",
   "metadata": {},
   "outputs": [
    {
     "name": "stdout",
     "output_type": "stream",
     "text": [
      "Accuracy: 0.9878787878787879\n",
      "Overall ROC AUC: 0.9987730662488197\n",
      "              precision    recall  f1-score   support\n",
      "\n",
      "           0       0.99      0.98      0.99       130\n",
      "           1       0.97      0.95      0.96        37\n",
      "           2       0.99      1.00      0.99       163\n",
      "\n",
      "    accuracy                           0.99       330\n",
      "   macro avg       0.98      0.98      0.98       330\n",
      "weighted avg       0.99      0.99      0.99       330\n",
      "\n"
     ]
    },
    {
     "data": {
      "image/png": "[encoded data removed]",
      "text/plain": [
       "<Figure size 640x480 with 2 Axes>"
      ]
     },
     "metadata": {},
     "output_type": "display_data"
    }
   ],
   "source": [
    "acc = accuracy_score(y_test, y_pred)\n",
    "roc_auc = roc_auc_score(y_test, y_pred_prob, multi_class = 'ovr')\n",
    "\n",
    "print(f'Accuracy: {acc}')\n",
    "print(f'Overall ROC AUC: {roc_auc}')\n",
    "\n",
    "print(classification_report(y_test, y_pred))\n",
    "\n",
    "cm = confusion_matrix(y_test, y_pred)\n",
    "disp = ConfusionMatrixDisplay(cm)\n",
    "disp.plot()\n",
    "plt.show()"
   ]
  },
  {
   "cell_type": "markdown",
   "id": "34b34add",
   "metadata": {},
   "source": [
    "# CNN 5"
   ]
  },
  {
   "cell_type": "code",
   "execution_count": 20,
   "id": "9af107f7",
   "metadata": {},
   "outputs": [],
   "source": [
    "class CNN5(nn.Module):\n",
    "    def __init__(self):\n",
    "        super(CNN5, self).__init__()\n",
    "\n",
    "        #max pooling layer\n",
    "        self.pool = nn.MaxPool2d(kernel_size=2, stride=2, padding=0)\n",
    "\n",
    "        # convolutional layers\n",
    "        self.conv1 = nn.Conv2d(1, 8, kernel_size=3, stride=1, padding=1)        \n",
    "        self.conv2 = nn.Conv2d(8, 16, kernel_size=3, stride=1, padding=1)\n",
    "        self.conv3 = nn.Conv2d(16, 32, kernel_size=3, stride=1, padding=1)\n",
    "\n",
    "        self.linear = nn.Linear(32*64*64, 3)\n",
    "\n",
    "    def forward(self, x):\n",
    "        # 512 x 512\n",
    "        x = self.pool(F.tanh(self.conv1(x))) # 256x256\n",
    "        x = self.pool(F.tanh(self.conv2(x))) # 128x128\n",
    "        x = self.pool(F.tanh(self.conv3(x))) # 64x64\n",
    "\n",
    "        x = torch.flatten(x, 1)\n",
    "        x = self.linear(x)\n",
    "        return x"
   ]
  },
  {
   "cell_type": "code",
   "execution_count": 21,
   "id": "c12d682f",
   "metadata": {},
   "outputs": [
    {
     "name": "stdout",
     "output_type": "stream",
     "text": [
      "cpu\n"
     ]
    }
   ],
   "source": [
    "model5 = CNN5()\n",
    "\n",
    "device = torch.device(\"cuda\" if torch.cuda.is_available() else \"cpu\")\n",
    "print(device)\n",
    "\n",
    "num_epochs = 20\n",
    "optimizer = optim.Adam(model5.parameters(), lr = 0.001)\n",
    "criterion = nn.CrossEntropyLoss()"
   ]
  },
  {
   "cell_type": "code",
   "execution_count": 22,
   "id": "ee42319d",
   "metadata": {},
   "outputs": [
    {
     "name": "stderr",
     "output_type": "stream",
     "text": [
      "Epoch 1/20: 100%|██████████| 24/24 [00:25<00:00,  1.06s/it]\n"
     ]
    },
    {
     "name": "stdout",
     "output_type": "stream",
     "text": [
      "Train Loss: 2.3195\n",
      "Valid Loss: 1.1829\n"
     ]
    },
    {
     "name": "stderr",
     "output_type": "stream",
     "text": [
      "Epoch 2/20: 100%|██████████| 24/24 [00:28<00:00,  1.17s/it]\n"
     ]
    },
    {
     "name": "stdout",
     "output_type": "stream",
     "text": [
      "Train Loss: 0.6058\n",
      "Valid Loss: 0.5382\n"
     ]
    },
    {
     "name": "stderr",
     "output_type": "stream",
     "text": [
      "Epoch 3/20: 100%|██████████| 24/24 [00:27<00:00,  1.13s/it]\n"
     ]
    },
    {
     "name": "stdout",
     "output_type": "stream",
     "text": [
      "Train Loss: 0.3552\n",
      "Valid Loss: 0.4016\n"
     ]
    },
    {
     "name": "stderr",
     "output_type": "stream",
     "text": [
      "Epoch 4/20: 100%|██████████| 24/24 [00:27<00:00,  1.13s/it]\n"
     ]
    },
    {
     "name": "stdout",
     "output_type": "stream",
     "text": [
      "Train Loss: 0.2392\n",
      "Valid Loss: 0.2070\n"
     ]
    },
    {
     "name": "stderr",
     "output_type": "stream",
     "text": [
      "Epoch 5/20: 100%|██████████| 24/24 [00:26<00:00,  1.12s/it]\n"
     ]
    },
    {
     "name": "stdout",
     "output_type": "stream",
     "text": [
      "Train Loss: 0.1154\n",
      "Valid Loss: 0.1330\n"
     ]
    },
    {
     "name": "stderr",
     "output_type": "stream",
     "text": [
      "Epoch 6/20: 100%|██████████| 24/24 [00:27<00:00,  1.13s/it]\n"
     ]
    },
    {
     "name": "stdout",
     "output_type": "stream",
     "text": [
      "Train Loss: 0.0739\n",
      "Valid Loss: 0.0874\n"
     ]
    },
    {
     "name": "stderr",
     "output_type": "stream",
     "text": [
      "Epoch 7/20: 100%|██████████| 24/24 [00:27<00:00,  1.13s/it]\n"
     ]
    },
    {
     "name": "stdout",
     "output_type": "stream",
     "text": [
      "Train Loss: 0.0639\n",
      "Valid Loss: 0.1060\n"
     ]
    },
    {
     "name": "stderr",
     "output_type": "stream",
     "text": [
      "Epoch 8/20: 100%|██████████| 24/24 [00:27<00:00,  1.13s/it]\n"
     ]
    },
    {
     "name": "stdout",
     "output_type": "stream",
     "text": [
      "Train Loss: 0.0441\n",
      "Valid Loss: 0.0653\n"
     ]
    },
    {
     "name": "stderr",
     "output_type": "stream",
     "text": [
      "Epoch 9/20: 100%|██████████| 24/24 [00:27<00:00,  1.13s/it]\n"
     ]
    },
    {
     "name": "stdout",
     "output_type": "stream",
     "text": [
      "Train Loss: 0.0243\n",
      "Valid Loss: 0.0499\n"
     ]
    },
    {
     "name": "stderr",
     "output_type": "stream",
     "text": [
      "Epoch 10/20: 100%|██████████| 24/24 [00:27<00:00,  1.13s/it]\n"
     ]
    },
    {
     "name": "stdout",
     "output_type": "stream",
     "text": [
      "Train Loss: 0.0189\n",
      "Valid Loss: 0.0693\n"
     ]
    },
    {
     "name": "stderr",
     "output_type": "stream",
     "text": [
      "Epoch 11/20: 100%|██████████| 24/24 [00:27<00:00,  1.14s/it]\n"
     ]
    },
    {
     "name": "stdout",
     "output_type": "stream",
     "text": [
      "Train Loss: 0.0176\n",
      "Valid Loss: 0.0596\n"
     ]
    },
    {
     "name": "stderr",
     "output_type": "stream",
     "text": [
      "Epoch 12/20: 100%|██████████| 24/24 [00:27<00:00,  1.15s/it]\n"
     ]
    },
    {
     "name": "stdout",
     "output_type": "stream",
     "text": [
      "Train Loss: 0.0304\n",
      "Valid Loss: 0.0477\n"
     ]
    },
    {
     "name": "stderr",
     "output_type": "stream",
     "text": [
      "Epoch 13/20: 100%|██████████| 24/24 [00:27<00:00,  1.15s/it]\n"
     ]
    },
    {
     "name": "stdout",
     "output_type": "stream",
     "text": [
      "Train Loss: 0.0407\n",
      "Valid Loss: 0.0605\n"
     ]
    },
    {
     "name": "stderr",
     "output_type": "stream",
     "text": [
      "Epoch 14/20: 100%|██████████| 24/24 [00:27<00:00,  1.15s/it]\n"
     ]
    },
    {
     "name": "stdout",
     "output_type": "stream",
     "text": [
      "Train Loss: 0.1148\n",
      "Valid Loss: 0.0819\n"
     ]
    },
    {
     "name": "stderr",
     "output_type": "stream",
     "text": [
      "Epoch 15/20: 100%|██████████| 24/24 [00:27<00:00,  1.16s/it]\n"
     ]
    },
    {
     "name": "stdout",
     "output_type": "stream",
     "text": [
      "Train Loss: 0.0473\n",
      "Valid Loss: 0.0503\n"
     ]
    },
    {
     "name": "stderr",
     "output_type": "stream",
     "text": [
      "Epoch 16/20: 100%|██████████| 24/24 [00:28<00:00,  1.17s/it]\n"
     ]
    },
    {
     "name": "stdout",
     "output_type": "stream",
     "text": [
      "Train Loss: 0.0371\n",
      "Valid Loss: 0.0493\n"
     ]
    },
    {
     "name": "stderr",
     "output_type": "stream",
     "text": [
      "Epoch 17/20: 100%|██████████| 24/24 [00:27<00:00,  1.16s/it]\n"
     ]
    },
    {
     "name": "stdout",
     "output_type": "stream",
     "text": [
      "Train Loss: 0.0124\n",
      "Valid Loss: 0.0333\n"
     ]
    },
    {
     "name": "stderr",
     "output_type": "stream",
     "text": [
      "Epoch 18/20: 100%|██████████| 24/24 [00:27<00:00,  1.17s/it]\n"
     ]
    },
    {
     "name": "stdout",
     "output_type": "stream",
     "text": [
      "Train Loss: 0.0103\n",
      "Valid Loss: 0.0339\n"
     ]
    },
    {
     "name": "stderr",
     "output_type": "stream",
     "text": [
      "Epoch 19/20: 100%|██████████| 24/24 [00:28<00:00,  1.17s/it]\n"
     ]
    },
    {
     "name": "stdout",
     "output_type": "stream",
     "text": [
      "Train Loss: 0.0081\n",
      "Valid Loss: 0.0297\n"
     ]
    },
    {
     "name": "stderr",
     "output_type": "stream",
     "text": [
      "Epoch 20/20: 100%|██████████| 24/24 [00:28<00:00,  1.17s/it]\n"
     ]
    },
    {
     "name": "stdout",
     "output_type": "stream",
     "text": [
      "Train Loss: 0.0073\n",
      "Valid Loss: 0.0415\n"
     ]
    }
   ],
   "source": [
    "results = []\n",
    "for epoch in range(1, num_epochs+1):\n",
    "    model5.train()  # set model to train\n",
    "    running_loss = 0.0\n",
    "    \n",
    "    for images, labels in tqdm(train_dataloader, desc=f\"Epoch {epoch}/{num_epochs}\"):\n",
    "        images, labels = images.to(device), labels.to(device).long()\n",
    "\n",
    "        # zero out gradients\n",
    "        optimizer.zero_grad()\n",
    "\n",
    "        # Forward pass\n",
    "        outputs = model5(images)\n",
    "        loss = criterion(outputs, labels)\n",
    "        \n",
    "        # Backward pass and optimization\n",
    "        loss.backward()\n",
    "        optimizer.step()\n",
    "\n",
    "        running_loss += loss.item()\n",
    "        \n",
    "    model5.eval() # set model to evaluation mode\n",
    "    \n",
    "    valid_loss = 0.0\n",
    "    for images, labels in test_dataloader:\n",
    "        \n",
    "        outputs = model5(images)\n",
    "        loss = criterion(outputs, labels)\n",
    "\n",
    "        valid_loss += loss.item()\n",
    "\n",
    "    avg_loss = running_loss / len(train_dataloader)\n",
    "    avg_valid_loss = valid_loss / len(test_dataloader)\n",
    "    results.append([epoch, avg_loss, avg_valid_loss])\n",
    "    if i%2 == 0:\n",
    "        print(f\"Train Loss: {avg_loss:.4f}\")\n",
    "        print(f\"Valid Loss: {avg_valid_loss:.4f}\")\n",
    "\n"
   ]
  },
  {
   "cell_type": "code",
   "execution_count": 23,
   "id": "81d5da67",
   "metadata": {},
   "outputs": [
    {
     "data": {
      "image/png": "[encoded data removed]",
      "text/plain": [
       "<Figure size 1000x700 with 1 Axes>"
      ]
     },
     "metadata": {},
     "output_type": "display_data"
    }
   ],
   "source": [
    "arr_results = np.array(results)\n",
    "fig = plt.figure(figsize = (10,7))\n",
    "plt.plot(arr_results[:, 0], arr_results[:, 1], label = 'Training Loss', c = 'b')\n",
    "plt.plot(arr_results[:, 0], arr_results[:, 2], label = 'Test Loss', c = 'r')\n",
    "plt.suptitle('Loss Curve - CNN 5')\n",
    "plt.xlabel('Epoch')\n",
    "plt.ylabel('Average Loss')\n",
    "plt.legend()\n",
    "plt.show()"
   ]
  },
  {
   "cell_type": "code",
   "execution_count": 25,
   "id": "cae5fc31",
   "metadata": {},
   "outputs": [],
   "source": [
    "y_test = []\n",
    "y_pred_prob = []\n",
    "y_pred = []\n",
    "for images, labels in test_dataloader:\n",
    "    scores = model5(images) # get scores from model\n",
    "    pred_prob = F.softmax(scores, dim = 1) # get predicted probabilities\n",
    "    preds = torch.argmax(pred_prob, axis = 1) # get predicted class\n",
    "\n",
    "    # append to list for entire test set\n",
    "    y_test.extend(labels.detach().numpy())\n",
    "    y_pred_prob.extend(pred_prob.detach().numpy())\n",
    "    y_pred.extend(preds.detach().numpy())"
   ]
  },
  {
   "cell_type": "code",
   "execution_count": 26,
   "id": "6d968824",
   "metadata": {},
   "outputs": [
    {
     "name": "stdout",
     "output_type": "stream",
     "text": [
      "Accuracy: 0.9818181818181818\n",
      "Overall ROC AUC: 0.9996616690200307\n",
      "              precision    recall  f1-score   support\n",
      "\n",
      "           0       0.96      0.99      0.98       130\n",
      "           1       1.00      0.86      0.93        37\n",
      "           2       0.99      1.00      1.00       163\n",
      "\n",
      "    accuracy                           0.98       330\n",
      "   macro avg       0.99      0.95      0.97       330\n",
      "weighted avg       0.98      0.98      0.98       330\n",
      "\n"
     ]
    },
    {
     "data": {
      "image/png": "[encoded data removed]",
      "text/plain": [
       "<Figure size 640x480 with 2 Axes>"
      ]
     },
     "metadata": {},
     "output_type": "display_data"
    }
   ],
   "source": [
    "acc = accuracy_score(y_test, y_pred)\n",
    "roc_auc = roc_auc_score(y_test, y_pred_prob, multi_class = 'ovr')\n",
    "\n",
    "print(f'Accuracy: {acc}')\n",
    "print(f'Overall ROC AUC: {roc_auc}')\n",
    "\n",
    "print(classification_report(y_test, y_pred))    \n",
    "\n",
    "cm = confusion_matrix(y_test, y_pred)\n",
    "disp = ConfusionMatrixDisplay(cm)\n",
    "disp.plot()\n",
    "plt.show()"
   ]
  }
 ],
 "metadata": {
  "kernelspec": {
   "display_name": "Python 3 (ipykernel)",
   "language": "python",
   "name": "python3"
  },
  "language_info": {
   "codemirror_mode": {
    "name": "ipython",
    "version": 3
   },
   "file_extension": ".py",
   "mimetype": "text/x-python",
   "name": "python",
   "nbconvert_exporter": "python",
   "pygments_lexer": "ipython3",
   "version": "3.11.5"
  }
 },
 "nbformat": 4,
 "nbformat_minor": 5
}
